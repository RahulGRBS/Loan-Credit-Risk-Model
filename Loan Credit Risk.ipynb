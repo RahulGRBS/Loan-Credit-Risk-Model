{
 "cells": [
  {
   "cell_type": "markdown",
   "id": "4c9aa5e3-d4b2-43c8-91d3-4bc70c116675",
   "metadata": {},
   "source": [
    "2. What is credit risk?\n",
    "What exactly is credit risk? Credit risk is the risk that someone who has borrowed money will not repay it all. Think of this risk as the difference between lending money to a person and purchasing a government bond. With government bonds, it's almost guaranteed to be paid back, but not when lending money to people. A loan is in default when the lending agency is reasonably certain the loan will not be repaid. We will use machine learning models to determine this.\n",
    "\n",
    "3. What is credit risk?\n",
    "Consider this example: we've loaned 300 dollars to someone who has made two payments but not the final payment. It is at this point we consider the loan to be in default. Predicting this beforehand is useful for us to estimate expected loss.\n",
    "\n",
    "4. Expected loss\n",
    "The expected loss is the amount that the firm loses as a result of the default on a loan. Expected loss is a simple calculation of the following three components. The probability of default, which is the likelihood someone will default on a loan. The exposure at default which is the amount outstanding at the time of default. And the loss given default which is the ratio of the exposure against any recovery from the loss. From our example the 100 dollars we were owed is our exposure, and if we sell that debt for 20 dollars, our loss given default would be 80 percent. The formula for expected loss is probability of default times exposure at default and loss given default. This course will focus on probability of default.\n",
    "\n",
    "Expected_Loss = PD * EAD * LGD\n",
    "\n",
    "5. Types of data used\n",
    "For modeling probability of default we generally have two primary types of data available. The first is application data, which is data that is directly tied to the loan application like loan grade. The second is behavioral data, which describes the recipient of the loan, such as employment length.\n",
    "\n",
    "6. Data columns\n",
    "The data we will use for our predictions of probability of default includes a mix. This is important because application data alone is not as good as application and behavioral data together. Included are two columns which emulate data that can be purchased from credit bureaus. Acquiring external data is a common practice in most organizations. These are the columns available in the data set. Some examples are: personal income, the loan amount's percentage of the person's income, and credit history length. Consider the percentage of income. This could affect loan status if the loan amount is more than their income, because they may not be able to afford payments.\n",
    "\n",
    "7. Exploring with cross tables\n",
    "Our data has 32 thousand rows, which can be difficult to see all at once. Here is where we use cross tables using the crosstab function available within Pandas. We can use this function to help get a high level view of the data similar to pivot tables in Excel. Here, we see the data has been grouped by loan status and home ownership, and then the average interest rate has been calculated.\n",
    "\n",
    "8. Exploring with visuals\n",
    "In addition to using cross tables, we can explore the data set visually. Here, we use matplotlib to create a scatter plot of the loan's interest rate and the recipient's income. Just like the cross table, plots help us get a high level view of our data."
   ]
  },
  {
   "cell_type": "markdown",
   "id": "1ae93406-3836-4e63-882a-1083f164ba66",
   "metadata": {},
   "source": [
    "One could have more columns within the data, and many could have a relationship with the values in loan_status. One needs to explore the data and these relationships more with further analysis to understand the impact of the data on credit loan defaults.\n",
    "\n",
    "Checking the structure of the data as well as seeing a snapshot helps in better understanding what's inside the set. Similarly, visualizations provide a high level view of the data in addition to important trends and patterns."
   ]
  },
  {
   "cell_type": "code",
   "execution_count": 1,
   "id": "0fd975d1-876c-425f-958c-bb7cb8587784",
   "metadata": {},
   "outputs": [
    {
     "name": "stdout",
     "output_type": "stream",
     "text": [
      "Setting up...\n"
     ]
    }
   ],
   "source": [
    "# -*- coding: utf-8 -*-\n",
    "\n",
    "#####################################################\n",
    "### Import all neccesary functions and libraries. ###\n",
    "#####################################################\n",
    "\n",
    "print(\"Setting up...\")\n",
    "#import os \n",
    "import pandas as pd\n",
    "import numpy as np\n",
    "import matplotlib.pyplot as plt\n",
    "import matplotlib.cm as cm\n",
    "\n",
    "from sklearn.linear_model import LogisticRegression\n",
    "from sklearn.model_selection import train_test_split\n",
    "from sklearn.metrics import classification_report\n",
    "from sklearn.metrics import precision_recall_fscore_support\n",
    "from sklearn.metrics import auc\n",
    "from sklearn.metrics import roc_curve\n",
    "from sklearn.metrics import roc_auc_score\n",
    "from sklearn.metrics import confusion_matrix\n",
    "from sklearn.model_selection import cross_val_score"
   ]
  },
  {
   "cell_type": "code",
   "execution_count": 2,
   "id": "8b5ad94b-b5e0-4ecf-bde1-b1d3cf1a53ef",
   "metadata": {},
   "outputs": [
    {
     "name": "stdout",
     "output_type": "stream",
     "text": [
      "person_age                      int64\n",
      "person_income                   int64\n",
      "person_home_ownership          object\n",
      "person_emp_length             float64\n",
      "loan_intent                    object\n",
      "loan_grade                     object\n",
      "loan_amnt                       int64\n",
      "loan_int_rate                 float64\n",
      "loan_status                     int64\n",
      "loan_percent_income           float64\n",
      "cb_person_default_on_file      object\n",
      "cb_person_cred_hist_length      int64\n",
      "dtype: object\n",
      "   person_age  person_income person_home_ownership  person_emp_length  \\\n",
      "0          22          59000                  RENT              123.0   \n",
      "1          21           9600                   OWN                5.0   \n",
      "2          25           9600              MORTGAGE                1.0   \n",
      "3          23          65500                  RENT                4.0   \n",
      "4          24          54400                  RENT                8.0   \n",
      "\n",
      "  loan_intent loan_grade  loan_amnt  loan_int_rate  loan_status  \\\n",
      "0    PERSONAL          D      35000          16.02            1   \n",
      "1   EDUCATION          B       1000          11.14            0   \n",
      "2     MEDICAL          C       5500          12.87            1   \n",
      "3     MEDICAL          C      35000          15.23            1   \n",
      "4     MEDICAL          C      35000          14.27            1   \n",
      "\n",
      "   loan_percent_income cb_person_default_on_file  cb_person_cred_hist_length  \n",
      "0                 0.59                         Y                           3  \n",
      "1                 0.10                         N                           2  \n",
      "2                 0.57                         N                           3  \n",
      "3                 0.53                         N                           2  \n",
      "4                 0.55                         Y                           4  \n"
     ]
    }
   ],
   "source": [
    "cr_loan = pd.read_csv(\"Raw_Credit_Data.csv\")\n",
    "cr_loan_clean = pd.read_csv(\"Credit_Data_Cleaned.csv\")\n",
    "cr_loan_ready4Modelling = pd.read_csv(\"Credit_Data_ReadyForModelling.csv\")\n",
    "\n",
    "# The structure\n",
    "print(cr_loan.dtypes)\n",
    "\n",
    "# The first five rows\n",
    "print(cr_loan.head())"
   ]
  },
  {
   "cell_type": "markdown",
   "id": "17df06e6-4a9e-478e-9a6c-5d43bf271b22",
   "metadata": {},
   "source": [
    "Explore the credit data\n",
    "\n",
    "Begin by looking at the data set cr_loan. In this data set, loan_status shows whether the loan is currently in default with 1 being default and 0 being non-default.\n",
    "\n",
    "One can have more columns within the data, and many could have a relationship with the values in loan_status. One needs to explore the data and these relationships more with further analysis to understand the impact of the data on credit loan defaults.\n",
    "\n",
    "Checking the structure of the data as well as seeing a snapshot helps in better understanding what's inside the set. Similarly, visualizations provide a high level view of the data in addition to important trends and patterns."
   ]
  },
  {
   "cell_type": "code",
   "execution_count": 3,
   "id": "284be3d1-02ac-4770-8304-52ec5a2e7955",
   "metadata": {},
   "outputs": [
    {
     "data": {
      "image/png": "[encoded data removed]",
      "text/plain": [
       "<Figure size 640x480 with 1 Axes>"
      ]
     },
     "metadata": {},
     "output_type": "display_data"
    }
   ],
   "source": [
    "# The distribution of loan amounts with a histogram\n",
    "n, bins, patches = plt.hist(x=cr_loan['loan_amnt'], bins='auto', color='blue',alpha=0.7, rwidth=0.85)\n",
    "plt.xlabel(\"Loan Amount\")\n",
    "plt.show()"
   ]
  },
  {
   "cell_type": "markdown",
   "id": "36dcd5f3-6af4-42e2-89e6-33cfbb139e87",
   "metadata": {},
   "source": [
    "One can already see a positive correlation with age and income, which could mean these older recipients are further along in their career and therefore earn higher salaries. There also appears to be an outlier in the data."
   ]
  },
  {
   "cell_type": "markdown",
   "id": "024cbb11-df8d-47fb-ade9-390455511a2d",
   "metadata": {},
   "source": [
    "Crosstab and pivot tables - Often financial data is viewed as a pivot table\n",
    "\n",
    "With Cross tables, One can get a high level view of selected columns and even aggregation like a count or average. For most credit risk models, especially for probability of default, columns like person_emp_length and person_home_ownership are common to begin investigating.\n",
    "\n",
    "One will be able to see how the values are populated throughout the data, and visualize them. One need to check how loan_status is affected by factors like home ownership status, loan grade, and loan percentage of income.\n"
   ]
  },
  {
   "cell_type": "code",
   "execution_count": 4,
   "id": "67fbbe1e-7432-4359-9669-6cdc620e6481",
   "metadata": {},
   "outputs": [
    {
     "name": "stdout",
     "output_type": "stream",
     "text": [
      "loan_status            0     1    All\n",
      "loan_intent                          \n",
      "DEBTCONSOLIDATION   3722  1490   5212\n",
      "EDUCATION           5342  1111   6453\n",
      "HOMEIMPROVEMENT     2664   941   3605\n",
      "MEDICAL             4450  1621   6071\n",
      "PERSONAL            4423  1098   5521\n",
      "VENTURE             4872   847   5719\n",
      "All                25473  7108  32581\n"
     ]
    }
   ],
   "source": [
    "# A cross table of the loan intent and loan status\n",
    "print(pd.crosstab(cr_loan['loan_intent'], cr_loan['loan_status'], margins = True))"
   ]
  },
  {
   "cell_type": "code",
   "execution_count": 5,
   "id": "3beb6fab-6615-4f1b-87cb-988ef80ae931",
   "metadata": {},
   "outputs": [
    {
     "name": "stdout",
     "output_type": "stream",
     "text": [
      "loan_status               0                                 1             \\\n",
      "loan_grade                A     B     C    D    E   F  G    A     B    C   \n",
      "person_home_ownership                                                      \n",
      "MORTGAGE               5219  3729  1934  658  178  36  0  239   324  321   \n",
      "OTHER                    23    29    11    9    2   0  0    3     5    6   \n",
      "OWN                     860   770   464  264   26   7  0   66    34   31   \n",
      "RENT                   3602  4222  2710  554  137  28  1  765  1338  981   \n",
      "\n",
      "loan_status                               \n",
      "loan_grade                D    E   F   G  \n",
      "person_home_ownership                     \n",
      "MORTGAGE                553  161  61  31  \n",
      "OTHER                    11    6   2   0  \n",
      "OWN                      18   31   8   5  \n",
      "RENT                   1559  423  99  27  \n"
     ]
    }
   ],
   "source": [
    "# A cross table of home ownership, loan status, and grade\n",
    "print(pd.crosstab(cr_loan['person_home_ownership'],[cr_loan['loan_status'],cr_loan['loan_grade']]))"
   ]
  },
  {
   "cell_type": "code",
   "execution_count": 6,
   "id": "93398d52-6d77-4acc-b210-98b43cddb3a3",
   "metadata": {},
   "outputs": [
    {
     "name": "stdout",
     "output_type": "stream",
     "text": [
      "loan_status                   0         1\n",
      "person_home_ownership                    \n",
      "MORTGAGE               0.146504  0.184882\n",
      "OTHER                  0.143784  0.300000\n",
      "OWN                    0.180013  0.297358\n",
      "RENT                   0.144611  0.264859\n"
     ]
    }
   ],
   "source": [
    "# A cross table of home ownership, loan status, and average percent income\n",
    "print(pd.crosstab(cr_loan['person_home_ownership'], cr_loan['loan_status'], values=cr_loan['loan_percent_income'], aggfunc='mean'))"
   ]
  },
  {
   "cell_type": "code",
   "execution_count": 7,
   "id": "1a7fa73e-c260-40c6-b7d5-96f48eb4a3ef",
   "metadata": {},
   "outputs": [
    {
     "data": {
      "image/png": "[encoded data removed]",
      "text/plain": [
       "<Figure size 640x480 with 1 Axes>"
      ]
     },
     "metadata": {},
     "output_type": "display_data"
    }
   ],
   "source": [
    "# A box plot of percentage income by loan status\n",
    "cr_loan.boxplot(column = ['loan_percent_income'], by = 'loan_status')\n",
    "plt.title('Average Percent Income by Loan Status')\n",
    "plt.suptitle('')\n",
    "plt.show()"
   ]
  },
  {
   "cell_type": "markdown",
   "id": "39dc3e30-6796-40a1-aa34-0b426ba6bcb8",
   "metadata": {},
   "source": [
    "It looks like the average percentage of income for defaults is higher. This could indicate those recipients have a debt-to-income ratio that's already too high."
   ]
  },
  {
   "cell_type": "markdown",
   "id": "f3d61210-cd57-4e22-8694-4546c2fbbe60",
   "metadata": {},
   "source": [
    "1. Outliers in Credit Data\n",
    "Now that we've performed some basic exploration of the data, let's take a closer look at some of the columns and begin preparing it for modeling.\n",
    "\n",
    "2. Data processing\n",
    "As with any machine learning problem, data preparation is the first step. But why? When our data is properly prepared we reduce the training time of our machine learning models. Also, prepared data can also have a positive impact on the performance of our model. This is important because we want our models to predict defaults correctly as often as possible. Consider this ROC chart. This shows the accuracy of three different models on the same data throughout different stages of processing. The light blue line represents a model trained on tidy and prepared data, while the orange line's model trained on raw data. The light blue line represents the most accurate model, because the curve is closest to the top left corner. We will see more graphs like this later when we check the accuracy of our models.\n",
    "\n",
    "3. Outliers and performance\n",
    "The first type of preparation we will look at is outlier detection and removal. Unfortunately, data entry systems producing bad data is fairly common. If the data entry specialist was tired or distracted, they can enter incorrect values into our system. It's also possible for data ingestion tools to create erroneous values in our data as a result of technical problems or system failures.\n",
    "\n",
    "4. Outliers and performance\n",
    "With outliers in our training data, our predictive models will have a difficult time estimating parameters like coefficients. This can cause our models to not predict as many defaults. Think of the coefficients as how much each column or feature is weighted to determine the loan status. Notice the coefficient differences in this example. It's possible that outliers in interest rate can cause that column to be weighted much more than normal. This will affect predictions.\n",
    "\n",
    "5. Detecting outliers with cross tables\n",
    "One way we can detect outliers, is to use cross tables with aggregate functions like those from the previous video. Here, we call crosstab on our credit loan data just like before to find the average interest rate. For this example, we might expect to see the values on the left with our normal data. However, there could be some extreme outliers in the data which would result in the data on the right. This would cause problems with modeling. Imagine having an interest rate of 59,000 percent!\n",
    "\n",
    "6. Detecting outliers visually\n",
    "Another way to detect outliers is to use visuals. For this we can easily use plots like histograms and scatter plots, which we saw in the previous video. Here, we can see that a couple records have a person's employment length set at well over 100. This would suggest that two loan applicants are over 136 years old! This, for now at least, is not possible.\n",
    "\n",
    "7. Removing outliers\n",
    "So, we know outliers are a problem and want to remove them, but how? We can easily use the drop method within the pandas package to remove rows from our data. In this example, we first use basic python subsetting to find rows with a person's employment length greater than 60. What this returns is the index position of that row in our data frame. From there, we call the drop method on our data frame to have it remove the rows in the data frame which match the index positions found earlier. Now, we can see visually that the outliers have been removed according to our criteria, and the data looks much more realistic"
   ]
  },
  {
   "cell_type": "markdown",
   "id": "d9909c2c-e8c1-4b6c-9fd8-61898e39de56",
   "metadata": {},
   "source": [
    "Finding outliers with cross tables\n",
    "Now you need to find and remove outliers you suspect might be in the data. For this exercise, you can use cross tables and aggregate functions.\n",
    "\n",
    "Have a look at the person_emp_length column. You've used the aggfunc = 'mean' argument to see the average of a numeric column before, but to detect outliers you can use other functions like min and max.\n",
    "\n",
    "It may not be possible for a person to have an employment length of less than 0 or greater than 60. You can use cross tables to check the data and see if there are any instances of this!"
   ]
  },
  {
   "cell_type": "code",
   "execution_count": 8,
   "id": "de562fce-f917-459e-a7fb-5c350989a7dc",
   "metadata": {},
   "outputs": [
    {
     "name": "stdout",
     "output_type": "stream",
     "text": [
      "person_home_ownership  MORTGAGE  OTHER   OWN   RENT\n",
      "loan_status                                        \n",
      "0                         123.0   24.0  31.0   41.0\n",
      "1                          34.0   11.0  17.0  123.0\n"
     ]
    }
   ],
   "source": [
    "# The cross table for loan status, home ownership, and the max employment length\n",
    "print(pd.crosstab(cr_loan['loan_status'],cr_loan['person_home_ownership'], values=cr_loan['person_emp_length'], aggfunc='max'))"
   ]
  },
  {
   "cell_type": "code",
   "execution_count": 9,
   "id": "fc98bcfa-8fe3-4970-8a40-8b595c3194d5",
   "metadata": {},
   "outputs": [],
   "source": [
    "# An array of indices where employment length is greater than 60\n",
    "indices = cr_loan[cr_loan['person_emp_length'] > 60].index"
   ]
  },
  {
   "cell_type": "code",
   "execution_count": 10,
   "id": "b8c015bb-bd92-4032-a122-ea6c207d4fcf",
   "metadata": {},
   "outputs": [],
   "source": [
    "# Drop the records from the data based on the indices and create a new dataframe\n",
    "cr_loan_new = cr_loan.drop(indices)"
   ]
  },
  {
   "cell_type": "code",
   "execution_count": 11,
   "id": "5b070250-7dfc-419d-abcd-a6253602d330",
   "metadata": {},
   "outputs": [
    {
     "name": "stdout",
     "output_type": "stream",
     "text": [
      "                           min                      max                  \n",
      "person_home_ownership MORTGAGE OTHER  OWN RENT MORTGAGE OTHER   OWN  RENT\n",
      "loan_status                                                              \n",
      "0                          0.0   0.0  0.0  0.0     38.0  24.0  31.0  41.0\n",
      "1                          0.0   0.0  0.0  0.0     34.0  11.0  17.0  27.0\n"
     ]
    }
   ],
   "source": [
    "# The cross table from earlier and include minimum employment length\n",
    "print(pd.crosstab(cr_loan_new['loan_status'],cr_loan_new['person_home_ownership'],values=cr_loan_new['person_emp_length'], aggfunc=['min','max']))"
   ]
  },
  {
   "cell_type": "markdown",
   "id": "0fd0b60a-04c3-4d0b-a1f1-26dd99710874",
   "metadata": {},
   "source": [
    "Visualizing credit outliers\n",
    "\n",
    "You discovered outliers in person_emp_length where values greater than 60 were far above the norm. person_age is another column in which a person can use a common sense approach to say it is very unlikely that a person applying for a loan will be over 100 years old.\n",
    "\n",
    "Visualizing the data here can be another easy way to detect outliers. You can use other numeric columns like loan_amnt and loan_int_rate to create plots with person_age to search for outliers."
   ]
  },
  {
   "cell_type": "code",
   "execution_count": 12,
   "id": "9cd71bec-6fd3-4fd2-a3cd-c305b53a2277",
   "metadata": {},
   "outputs": [
    {
     "data": {
      "image/png": "[encoded data removed]",
      "text/plain": [
       "<Figure size 640x480 with 1 Axes>"
      ]
     },
     "metadata": {},
     "output_type": "display_data"
    }
   ],
   "source": [
    "# The scatter plot for age and amount\n",
    "plt.scatter(cr_loan['person_age'], cr_loan['loan_amnt'], c='blue', alpha=0.5)\n",
    "plt.xlabel(\"Person Age\")\n",
    "plt.ylabel(\"Loan Amount\")\n",
    "plt.show()"
   ]
  },
  {
   "cell_type": "code",
   "execution_count": 13,
   "id": "1d949b7e-b00b-464f-a8f8-0ebe28fa6498",
   "metadata": {},
   "outputs": [
    {
     "data": {
      "image/png": "[encoded data removed]",
      "text/plain": [
       "<Figure size 640x480 with 1 Axes>"
      ]
     },
     "metadata": {},
     "output_type": "display_data"
    }
   ],
   "source": [
    "# Use Pandas to drop the record from the data frame and create a new one\n",
    "cr_loan_new = cr_loan.drop(cr_loan[cr_loan['person_age'] > 100].index)\n",
    "\n",
    "# Create a scatter plot of age and interest rate\n",
    "colors = [\"blue\",\"red\"]\n",
    "plt.scatter(cr_loan_new['person_age'], cr_loan_new['loan_int_rate'], c = cr_loan_new['loan_status'], cmap = cm.colors.ListedColormap(colors), alpha=0.5)\n",
    "plt.xlabel(\"Person Age\")\n",
    "plt.ylabel(\"Loan Interest Rate\")\n",
    "plt.show()"
   ]
  },
  {
   "cell_type": "markdown",
   "id": "2c370520-6a29-4a02-b301-fceceafacd7d",
   "metadata": {},
   "source": [
    ".drop() those rows like they're hot! Notice that in the last plot we have loan_status as a label for colors. This shows a different color depending on the class. In this case, it's loan default and non-default, and it looks like there are more defaults with high interest rates."
   ]
  },
  {
   "cell_type": "markdown",
   "id": "955dcb98-1985-47cd-8e10-3e865c96a079",
   "metadata": {},
   "source": [
    "1. Risk with missing data in loan data\n",
    "With the outliers now removed from our data set, we can now focus on another problem with credit data and that is when data is missing.\n",
    "\n",
    "2. What is missing data?\n",
    "Normally, you might think of missing data as when an entire row is missing, but that is not the only way data can be missing. Data can be missing when there are null values in place of actual values. It can also be an empty string instead of a real string. For this course, we will refer to missing data as when specific values are not present, not when entire rows of data are missing. Any of the columns within our data can contain missing values. If we see a row of data with missing values in a Pandas dataframe, it will look something like this. Notice for employment length we see NAN, or not a number, instead of a value.\n",
    "\n",
    "3. Similarities with outliers\n",
    "One issue with missing data is similar to problems caused with outliers in that it negatively impacts predictive model performance. It can bias our model in unanticipated ways, which can affect how we predict defaults. This could result in us predicting a large number of defaults that are not actually defaults because the model is biased towards defaults. Also, many machine learning models in Python do not automatically ignore missing values, and will often throw errors and cease training.\n",
    "\n",
    "4. Similarities with outliers\n",
    "Here are some examples of missing data and possible results. If there are null values in numeric or string columns, the model will throw an error.\n",
    "\n",
    "5. How to handle missing data\n",
    "So, how do we handle missing data? Most often, it is handled in one of three ways. Sometimes we need to replace missing values. This could be replacing a null with the average value of that column. Other times we remove the row with missing data all together. For example, if there are nulls in loan amount, we should drop those rows entirely. We sometimes keep missing values as well. This, however, is not the case with most loan data. Understanding the data will direct you towards one of these three actions.\n",
    "\n",
    "6. How to handle missing data\n",
    "For example, if the loan status is null, it's possible that the loan was recently processed in our system. Sometimes there is a data delay, and additional time needed for processing. In this case, we should just remove the whole row. Another example is where the person's age is missing. Here, we might be able to replace the missing age values with the median of everyone's age.\n",
    "\n",
    "7. Finding missing data\n",
    "But how do we find missing data? With Pandas, we can find missing data like nulls using the isnull function and the sum function to count the rows with data missing. By combining the functions isnull, sum, and any, we count all the null values in each column. This produces a table of values show the count of records with nulls in the data.\n",
    "\n",
    "8. Replacing Missing data\n",
    "If we decide to replace missing data, we can call the fill-n-a method from Pandas along with aggregate functions. This will replace only missing values. In this example, we replace null interest rates with the average of all interest rates in the data. The result, as shown here, replaces a null interest rate with 11 percent.\n",
    "\n",
    "9. Dropping missing data\n",
    "Dropping rows with missing data is just like dropping rows with outliers. We use the drop method from Pandas. Here, we find the rows with missing data using isnull, and then drop the rows from the data set entirely."
   ]
  },
  {
   "cell_type": "markdown",
   "id": "26b99e25-5ec3-4ab6-a655-2f09d62f29cb",
   "metadata": {},
   "source": [
    "Replacing missing credit data\n",
    "One should check for missing data. If missing data is found within loan_status, one would not be able to use the data for predicting probability of default because you wouldn't know if the loan was a default or not. Missing data within person_emp_length would not be as damaging, but would still cause training errors.\n",
    "\n",
    "So, check for missing data in the person_emp_length column and replace any missing values with the median."
   ]
  },
  {
   "cell_type": "code",
   "execution_count": 14,
   "id": "43444b79-5289-4fb3-80f2-9f5722fb5df4",
   "metadata": {},
   "outputs": [
    {
     "name": "stdout",
     "output_type": "stream",
     "text": [
      "Index(['person_emp_length', 'loan_int_rate'], dtype='object')\n",
      "     person_age  person_income person_home_ownership  person_emp_length  \\\n",
      "105          22          12600              MORTGAGE                NaN   \n",
      "222          24         185000              MORTGAGE                NaN   \n",
      "379          24          16800              MORTGAGE                NaN   \n",
      "407          25          52000                  RENT                NaN   \n",
      "408          22          17352              MORTGAGE                NaN   \n",
      "\n",
      "           loan_intent loan_grade  loan_amnt  loan_int_rate  loan_status  \\\n",
      "105           PERSONAL          A       2000           5.42            1   \n",
      "222          EDUCATION          B      35000          12.42            0   \n",
      "379  DEBTCONSOLIDATION          A       3900            NaN            1   \n",
      "407           PERSONAL          B      24000          10.74            1   \n",
      "408          EDUCATION          C       2250          15.27            0   \n",
      "\n",
      "     loan_percent_income cb_person_default_on_file  cb_person_cred_hist_length  \n",
      "105                 0.16                         N                           4  \n",
      "222                 0.19                         N                           2  \n",
      "379                 0.23                         N                           3  \n",
      "407                 0.46                         N                           2  \n",
      "408                 0.13                         Y                           3  \n"
     ]
    },
    {
     "data": {
      "image/png": "[encoded data removed]",
      "text/plain": [
       "<Figure size 640x480 with 1 Axes>"
      ]
     },
     "metadata": {},
     "output_type": "display_data"
    }
   ],
   "source": [
    "# Print an array of columns with null values\n",
    "print(cr_loan.columns[cr_loan.isnull().any()])\n",
    "\n",
    "# Print the top five rows with nulls for employment length\n",
    "print(cr_loan[cr_loan['person_emp_length'].isnull()].head())\n",
    "\n",
    "# Replace the null values with the median value for all employment lengths\n",
    "cr_loan['person_emp_length'].fillna((cr_loan['person_emp_length'].median()), inplace=True)\n",
    "\n",
    "# Create a histogram of employment length\n",
    "n, bins, patches = plt.hist(cr_loan['person_emp_length'], bins='auto', color='blue')\n",
    "plt.xlabel(\"Person Employment Length\")\n",
    "plt.show()"
   ]
  },
  {
   "cell_type": "markdown",
   "id": "833aa34f-3fd3-411b-9240-714660d9fd36",
   "metadata": {},
   "source": [
    "one can use several different functions like mean() and median() to replace missing data. The goal here is to keep as much of our data as we can! "
   ]
  },
  {
   "cell_type": "markdown",
   "id": "0cd83cbb-5e6f-4578-b3f8-f49bc765abde",
   "metadata": {},
   "source": [
    "Removing missing data\n",
    "replaced missing data in person_emp_length, but in the previous cell , it can be seen that loan_int_rate has missing data as well.\n",
    "\n",
    "Similar to having missing data within loan_status, having missing data within loan_int_rate will make predictions difficult.\n",
    "\n",
    "Because interest rates are set by the company, having missing data in this column is very strange. It's possible that data ingestion issues created errors, but you one cannot know for sure. For now, it's best to .drop() these records before moving forward."
   ]
  },
  {
   "cell_type": "code",
   "execution_count": 15,
   "id": "446ac960-4187-4a92-8509-0369755f9707",
   "metadata": {},
   "outputs": [
    {
     "name": "stdout",
     "output_type": "stream",
     "text": [
      "3116\n"
     ]
    }
   ],
   "source": [
    "# Print the number of nulls\n",
    "print(cr_loan['loan_int_rate'].isnull().sum())\n",
    "\n",
    "# Store the array on indices\n",
    "indices = cr_loan[cr_loan['loan_int_rate'].isnull()].index\n",
    "\n",
    "# Save the new data without missing data\n",
    "cr_loan_clean = cr_loan.drop(indices)"
   ]
  },
  {
   "cell_type": "markdown",
   "id": "2e7793a5-ba2a-4063-a35c-f75e5160ddad",
   "metadata": {},
   "source": [
    "Now that the missing data and outliers have been processed, the data is ready for modeling! More often than not, financial data is fairly tidy, but it's always good to practice preparing data for analytical work."
   ]
  },
  {
   "cell_type": "markdown",
   "id": "d90379c8-bb53-40de-81cf-e4e2405178d1",
   "metadata": {},
   "source": [
    "Missing data intuition\n",
    "\n",
    "Here's an intuition check! When handling missing data, you have three options: keep, replace, and remove.\n",
    "\n",
    "You've been looking at numeric columns, but what about a non-numeric column? How would you handle missing data in the column person_home_ownership which has string values?\n",
    "\n",
    "The object ownership_table has already been created to show how many records occur in each unique value of person_home_ownership with the following code:\n",
    "\n",
    "already have an all-inclusive class within person_home_ownership that stores all other types of home ownership as Other. With this, we eliminate missing data without affecting the data as a whole"
   ]
  },
  {
   "cell_type": "markdown",
   "id": "0f27ecfb-5965-40e5-8d93-b0f6ce983aed",
   "metadata": {},
   "source": [
    "1. Logistic regression for probability of default\n",
    "Now that we've removed both outliers and missing data from out data set, we can begin modeling to predict the probability of default.\n",
    "\n",
    "2. Probability of default\n",
    "Recall that the probability of default is the likelihood that someone will fail to repay a loan. This is expressed as a probability which is a value between zero and one. These probabilities are associated with our loan status column where a 1 is a default, and a 0 is a non default.\n",
    "\n",
    "3. Probability of default\n",
    "The resulting predictions give us probabilities of default. The closer the value is to 1, the higher the probability of the loan being a default.\n",
    "\n",
    "4. Predicting probabilities\n",
    "To get these probabilities, we train machine learning models on our credit data columns, known as features, so the models learn how to use the data to predict the probabilities. These types of models are known as classification models, where the class is default or non-default. In the industry, two models are used frequently. These are logistic regressions, and decision trees. Both of these models can predict the probability of default, and tell us how important each column is for predictions.\n",
    "\n",
    "5. Logistic regression\n",
    "The logistic regression is like a linear regression but only produces a value between 0 and 1. Notice that the equation for the linear regression is actually part of the logistic regression. Logistic regressions perform better on data when what determines a default or non-default can vary greatly. Think about the y-intercept here, which is the log odds of non-default. This as another way of expressing the overall probability of non-default.\n",
    "\n",
    "6. Training a logistic regression\n",
    "In this course, we use the logistic regression within scikit learn. The use of the model is easy. Like any function, you can pass in parameters or not. The solver parameter is an optimizer, just like the solver in Excel. LBFGS is the default. To train the model, we call the fit method on it. Within the method, we have to provide the model with training columns and training labels. We use ravel from numpy to make the labels a one-dimensional array instead of a data frame. In our credit data, the training columns are every column except the loan status. The loan status contains the labels.\n",
    "\n",
    "7. Training and testing\n",
    "Generally, in machine learning, we split our entire data set into two individual data sets.\n",
    "\n",
    "8. Training and testing\n",
    "They are the training set and the test set. We use the majority of the data to train our models, so they learn as much as possible from the data. Our test set is used to see how our model reacts to new data that it has not seen before. This is like students learning in school. They will learn facts from one subject, and be tested on different facts from that same subject. This way, we can asses their mastery of the topic.\n",
    "\n",
    "9. Creating the training and test sets\n",
    "The first thing we do is separate our data into training columns and labels. Here, we have assigned those as X and Y. With that done, we use the test train split function within the sci-kit learn package. Let's have a look at the code. Remember how I said we need training columns and labels for our model? We need these for both the training set and the test set, which are all easily created with one line of code. Within this function, we set the percentage of the data to be used as a test set, and a number used as a random seed for reproducibility."
   ]
  },
  {
   "cell_type": "markdown",
   "id": "47f23e1a-4d00-4aaa-9e2d-f313531a6b4e",
   "metadata": {},
   "source": [
    "Logistic regression basics\n",
    "You've now cleaned up the data and created the new data set cr_loan_clean.\n",
    "\n",
    "Think back to the final scatter plot from chapter 1 which showed more defaults with high loan_int_rate. Interest rates are easy to understand, but what how useful are they for predicting the probability of default?\n",
    "\n",
    "Since you haven't tried predicting the probability of default yet, test out creating and training a logistic regression model with just loan_int_rate. Also check the model's internal parameters, which are like settings, to see the structure of the model with this one column."
   ]
  },
  {
   "cell_type": "code",
   "execution_count": 16,
   "id": "30c63b8e-7fcc-4228-9929-93d69ea074b6",
   "metadata": {},
   "outputs": [
    {
     "name": "stdout",
     "output_type": "stream",
     "text": [
      "{'C': 1.0, 'class_weight': None, 'dual': False, 'fit_intercept': True, 'intercept_scaling': 1, 'l1_ratio': None, 'max_iter': 100, 'multi_class': 'auto', 'n_jobs': None, 'penalty': 'l2', 'random_state': None, 'solver': 'lbfgs', 'tol': 0.0001, 'verbose': 0, 'warm_start': False}\n",
      "[-4.4586918]\n"
     ]
    }
   ],
   "source": [
    "# Create the X and y data sets\n",
    "X = cr_loan_clean[['loan_int_rate']]\n",
    "y = cr_loan_clean[['loan_status']]\n",
    "\n",
    "# Create and fit a logistic regression model\n",
    "clf_logistic_single = LogisticRegression(solver='lbfgs')\n",
    "clf_logistic_single.fit(X, np.ravel(y))\n",
    "\n",
    "# Print the parameters of the model\n",
    "print(clf_logistic_single.get_params())\n",
    "\n",
    "# Print the intercept of the model\n",
    "print(clf_logistic_single.intercept_)"
   ]
  },
  {
   "cell_type": "markdown",
   "id": "28c2bd57-68e5-4069-83b8-d81ebab83830",
   "metadata": {},
   "source": [
    "Notice that the model was able to fit to the data, and establish some parameters internally. It's even produced an .intercept_ value like in the lecture"
   ]
  },
  {
   "cell_type": "markdown",
   "id": "4a3f8f00-6112-434d-b54d-060dba57f745",
   "metadata": {},
   "source": [
    "Multivariate logistic regression\n",
    "Generally, one won't use only loan_int_rate to predict the probability of default. One will want to use all the data you have to make predictions.\n",
    "\n",
    "With this in mind, try training a new model with different columns, called features, from the cr_loan_clean data. Will this model differ from the first one? For this, you can easily check the .intercept_ of the logistic regression. Remember that this is the y-intercept of the function and the overall log-odds of non-default."
   ]
  },
  {
   "cell_type": "code",
   "execution_count": 17,
   "id": "833fea6d-8c90-4cf5-afbf-a6f8b6fc35f2",
   "metadata": {},
   "outputs": [
    {
     "name": "stdout",
     "output_type": "stream",
     "text": [
      "[-4.2253171]\n"
     ]
    }
   ],
   "source": [
    "# Create X data for the model\n",
    "X_multi = cr_loan_clean[['loan_int_rate','person_emp_length']]\n",
    "\n",
    "# Create a set of y data for training\n",
    "y = cr_loan_clean[['loan_status']]\n",
    "\n",
    "# Create and train a new logistic regression\n",
    "clf_logistic_multi = LogisticRegression(solver='lbfgs').fit(X_multi, np.ravel(y))\n",
    "\n",
    "# Print the intercept of the model\n",
    "print(clf_logistic_multi.intercept_)"
   ]
  },
  {
   "cell_type": "markdown",
   "id": "2c91a920-7378-440b-a52f-dde741ca7db1",
   "metadata": {},
   "source": [
    "Take a closer look at each model's .intercept_ value. The values have changed! The new clf_logistic_multi model has an .intercept_ value closer to zero. This means the log odds of a non-default is approaching zero."
   ]
  },
  {
   "cell_type": "markdown",
   "id": "9a179292-1d75-4f10-85d0-884e35c1457b",
   "metadata": {},
   "source": [
    "Creating training and test sets\n",
    "You've just trained LogisticRegression() models on different columns.\n",
    "\n",
    "You know that the data should be separated into training and test sets. test_train_split() is used to create both at the same time. The training set is used to make predictions, while the test set is used for evaluation. Without evaluating the model, you have no way to tell how well it will perform on new loan data.\n",
    "\n",
    "In addition to the intercept_, which is an attribute of the model, LogisticRegression() models also have the .coef_ attribute. This shows how important each training column is for predicting the probability of default."
   ]
  },
  {
   "cell_type": "code",
   "execution_count": 18,
   "id": "8d59fdce-1d55-49e3-ab25-72ca1ac271d9",
   "metadata": {},
   "outputs": [
    {
     "name": "stdout",
     "output_type": "stream",
     "text": [
      "[[ 8.34020099e-02 -6.02470833e-02 -3.28983416e-05]]\n"
     ]
    }
   ],
   "source": [
    "# Create the X and y data sets\n",
    "X = cr_loan_clean[['loan_int_rate','person_emp_length','person_income']]\n",
    "y = cr_loan_clean[['loan_status']]\n",
    "\n",
    "# Use test_train_split to create the training and test sets\n",
    "X_train, X_test, y_train, y_test = train_test_split(X, y, test_size=.4, random_state=123)\n",
    "\n",
    "# Create and fit the logistic regression model\n",
    "clf_logistic = LogisticRegression(solver='lbfgs').fit(X_train, np.ravel(y_train))\n",
    "\n",
    "# Print the models coefficients\n",
    "print(clf_logistic.coef_)"
   ]
  },
  {
   "cell_type": "markdown",
   "id": "9dc7f64b-98ce-4039-a9ad-9bbf209b64de",
   "metadata": {},
   "source": [
    "three columns were used for training and there are three values in .coef_? This tells you how important each column, or feature, was for predicting. The more positive the value, the more it predicts defaults. Look at the value for loan_int_rate"
   ]
  },
  {
   "cell_type": "markdown",
   "id": "0d8d6023-0e71-476b-8ee5-37c53dd0e158",
   "metadata": {},
   "source": [
    "1. Predicting the probability of default\n",
    "So far, we've trained a logistic regression on our credit data, and looked some attributes of the model. Now, let's discuss the structure of the model and how to create predictions.\n",
    "\n",
    "2. Logistic regression coefficients\n",
    "In the previous exercise, we saw the following intercept and coefficients for our model. These coefficients the importance of each column. These values are part of the logistic regression formula that calculates the probability of default which we see here. Each coefficient is multiplied by the values in the column, and then added together along with the intercept. Then, 1 is divided by the sum of 1 and e to the negative power of our intercept coefficient sums. The result is the probability of default.\n",
    "\n",
    "3. Interpreting coefficients\n",
    "Consider employment length as an example. I've already calculated the intercept and coefficient for a logistic regression using this one column. What this coefficient tells us is the log odds for non-default. This means that for every 1 year increase in employment length, the person is less likely to default by a factor of the coefficient.\n",
    "\n",
    "4. Interpreting coefficients\n",
    "Let's say we have 3 values for employment length, and we want to know how this affects our probability of default by looking at the coefficients. What we see here is that the higher a person's employment length is, the less likely they are to default.\n",
    "\n",
    "5. Using non-numeric columns\n",
    "Since we're talking about numbers, it's worth mentioning that so far we have only used numeric columns to train out models. Our data also contains non-numeric columns like loan intent, which uses words to describe how the person plans to use the money we lend them. In Python, unlike R, machine learning models do not know how to use these non-numeric values. So, we have to perform an operation called one-hot encoding before we can use them.\n",
    "\n",
    "6. One-hot encoding\n",
    "One-hot encoding sounds complicated, but it's really simple. The main idea is to represent a string with a numeric value. Here is how it works. Let's think about the loan intent column where each loan has it's own intent value as a string. This sample has education, medical, and venture.\n",
    "\n",
    "7. One-hot encoding\n",
    "With one-hot encoding, we get a new set of columns where each value from loan intent is now it's own column. Each new column is created by separating out the loans with each intent value and making the new column's value a 0 or 1. For example, if the loan intent was education, it is now represented with a 1 in the loan intent education column. This way, there is one hot value.\n",
    "\n",
    "8. Get dummies\n",
    "To one-hot encode our string columns, we use the get dummies function within pandas. First, we separate the numeric and non-numeric columns from the data into two sets. Then we use the get dummies function to one-hot encode only the non-numeric columns. We union the two sets and the result is a full data set that's ready for machine learning!\n",
    "\n",
    "9. Predicting the future, probably\n",
    "Once our model is trained, we use the predict proba method on test data to make predictions. This creates a set of probabilities for non-default and default. Notice the output is a series of numbers between 0 and 1. We have two for each loan. The first number is the probability of non-default, and the second number is the probability of default."
   ]
  },
  {
   "cell_type": "markdown",
   "id": "582f02b5-5dff-43d6-8b32-17d8a96c9ba7",
   "metadata": {},
   "source": [
    "Changing coefficients\n",
    "With this understanding of the coefficients of a LogisticRegression() model, have a closer look at them to see how they change depending on what columns are used for training. Will the column coefficients change from model to model?\n",
    "\n",
    "You should .fit() two different LogisticRegression() models on different groups of columns to check. You should also consider what the potential impact on the probability of default might be."
   ]
  },
  {
   "cell_type": "code",
   "execution_count": 19,
   "id": "1e00c439-d23c-4678-bca9-e031a0cf06fd",
   "metadata": {},
   "outputs": [],
   "source": [
    "X1_train = cr_loan_clean[['person_income','person_emp_length','loan_amnt']]\n",
    "X2_train = cr_loan_clean[['person_income','loan_percent_income','cb_person_cred_hist_length']]\n",
    "y_train  = cr_loan_clean[['loan_status']]"
   ]
  },
  {
   "cell_type": "code",
   "execution_count": 20,
   "id": "33e4da8c-2cf5-4a2f-a234-688682b47a04",
   "metadata": {},
   "outputs": [
    {
     "name": "stdout",
     "output_type": "stream",
     "text": [
      "   person_income  person_emp_length  loan_amnt\n",
      "0          59000              123.0      35000\n",
      "1           9600                5.0       1000\n",
      "2           9600                1.0       5500\n",
      "3          65500                4.0      35000\n",
      "4          54400                8.0      35000\n",
      "   person_income  loan_percent_income  cb_person_cred_hist_length\n",
      "0          59000                 0.59                           3\n",
      "1           9600                 0.10                           2\n",
      "2           9600                 0.57                           3\n",
      "3          65500                 0.53                           2\n",
      "4          54400                 0.55                           4\n",
      "[[-4.05677209e-05 -2.44520318e-08  1.07020754e-04]]\n",
      "[[-2.19487386e-05  8.96410766e-11 -1.64767901e-09]]\n"
     ]
    }
   ],
   "source": [
    "# Print the first five rows of each training set\n",
    "print(X1_train.head())\n",
    "print(X2_train.head())\n",
    "\n",
    "# Create and train a model on the first training data\n",
    "clf_logistic1 = LogisticRegression(solver='lbfgs').fit(X1_train, np.ravel(y_train))\n",
    "\n",
    "# Create and train a model on the second training data\n",
    "clf_logistic2 = LogisticRegression(solver='lbfgs').fit(X2_train, np.ravel(y_train))\n",
    "\n",
    "# Print the coefficients of each model\n",
    "print(clf_logistic1.coef_)\n",
    "print(clf_logistic2.coef_)"
   ]
  },
  {
   "cell_type": "markdown",
   "id": "766ed5f1-66bb-4205-9376-2ed88527128c",
   "metadata": {},
   "source": [
    "Notice that the coefficient for the person_income changed when we changed the data from X1 to X2. This is a reason to keep most of the data like we did in chapter 1, because the models will learn differently depending on what data they're given!"
   ]
  },
  {
   "cell_type": "markdown",
   "id": "04ab0f13-d37f-4fcf-9f74-e24b3ae6c3be",
   "metadata": {},
   "source": [
    "One-hot encoding credit data\n",
    "It's time to prepare the non-numeric columns so they can be added to your LogisticRegression() model.\n",
    "\n",
    "Once the new columns have been created using one-hot encoding, you can concatenate them with the numeric columns to create a new data frame which will be used throughout the rest of the course for predicting probability of default.\n",
    "\n",
    "Remember to only one-hot encode the non-numeric columns. Doing this to the numeric columns would create an incredibly wide data set!\n",
    "\n",
    "The credit loan data, cr_loan_clean, has already been loaded in the workspace."
   ]
  },
  {
   "cell_type": "code",
   "execution_count": 21,
   "id": "627e33ab-7714-4b25-8afe-ddbf8248e381",
   "metadata": {},
   "outputs": [
    {
     "name": "stdout",
     "output_type": "stream",
     "text": [
      "Index(['person_age', 'person_income', 'person_emp_length', 'loan_amnt',\n",
      "       'loan_int_rate', 'loan_status', 'loan_percent_income',\n",
      "       'cb_person_cred_hist_length', 'person_home_ownership_MORTGAGE',\n",
      "       'person_home_ownership_OTHER', 'person_home_ownership_OWN',\n",
      "       'person_home_ownership_RENT', 'loan_intent_DEBTCONSOLIDATION',\n",
      "       'loan_intent_EDUCATION', 'loan_intent_HOMEIMPROVEMENT',\n",
      "       'loan_intent_MEDICAL', 'loan_intent_PERSONAL', 'loan_intent_VENTURE',\n",
      "       'loan_grade_A', 'loan_grade_B', 'loan_grade_C', 'loan_grade_D',\n",
      "       'loan_grade_E', 'loan_grade_F', 'loan_grade_G',\n",
      "       'cb_person_default_on_file_N', 'cb_person_default_on_file_Y'],\n",
      "      dtype='object')\n"
     ]
    }
   ],
   "source": [
    "# Create two data sets for numeric and non-numeric data\n",
    "cred_num = cr_loan_clean.select_dtypes(exclude=['object'])\n",
    "cred_str = cr_loan_clean.select_dtypes(include=['object'])\n",
    "\n",
    "# One-hot encode the non-numeric columns\n",
    "cred_str_onehot = pd.get_dummies(cred_str)\n",
    "\n",
    "# Union the one-hot encoded columns to the numeric ones\n",
    "cr_loan_prep = pd.concat([cred_num, cred_str_onehot], axis=1)\n",
    "\n",
    "# Print the columns in the new data set\n",
    "print(cr_loan_prep.columns)"
   ]
  },
  {
   "cell_type": "markdown",
   "id": "8e6839e2-c840-402b-8e7c-c67f6503ae8b",
   "metadata": {},
   "source": [
    "all those columns! If you've ever seen a credit scorecard, the column_name_value format should look familiar."
   ]
  },
  {
   "cell_type": "markdown",
   "id": "772316a8-466b-44d8-8707-e3349990cb00",
   "metadata": {},
   "source": [
    "Predicting probability of default\n",
    "All of the data processing is complete and it's time to begin creating predictions for probability of default. You want to train a LogisticRegression() model on the data, and examine how it predicts the probability of default.\n",
    "\n",
    "So that you can better grasp what the model produces with predict_proba, you should look at an example record alongside the predicted probability of default. How do the first five predictions look against the actual values of loan_status?\n"
   ]
  },
  {
   "cell_type": "code",
   "execution_count": 22,
   "id": "85a8566d-5558-437e-be46-a33d0b06c597",
   "metadata": {},
   "outputs": [],
   "source": [
    "# Create the X and y data sets\n",
    "X_new = cr_loan_prep[['person_age', 'person_income', 'person_emp_length', 'loan_amnt', 'loan_int_rate', 'loan_percent_income', 'cb_person_cred_hist_length', 'person_home_ownership_MORTGAGE',\n",
    "       'person_home_ownership_OTHER', 'person_home_ownership_OWN', 'person_home_ownership_RENT', 'loan_intent_DEBTCONSOLIDATION', 'loan_intent_EDUCATION', 'loan_intent_HOMEIMPROVEMENT',\n",
    "       'loan_intent_MEDICAL', 'loan_intent_PERSONAL', 'loan_intent_VENTURE', 'loan_grade_A', 'loan_grade_B', 'loan_grade_C', 'loan_grade_D', 'loan_grade_E', 'loan_grade_F', 'loan_grade_G',\n",
    "       'cb_person_default_on_file_N', 'cb_person_default_on_file_Y']]\n",
    "y_new = cr_loan_prep[['loan_status']]\n",
    "\n",
    "# Use test_train_split to create the training and test sets\n",
    "X_train_new, X_test_new, y_train_new, y_test_new = train_test_split(X_new, y_new, test_size=.4, random_state=123)\n"
   ]
  },
  {
   "cell_type": "code",
   "execution_count": 23,
   "id": "0095b8ee-fec3-4f4c-9049-2d4dc6dd567f",
   "metadata": {},
   "outputs": [
    {
     "name": "stdout",
     "output_type": "stream",
     "text": [
      "   loan_status  prob_default\n",
      "0            0      0.129805\n",
      "1            0      0.243161\n",
      "2            0      0.100325\n",
      "3            0      0.252148\n",
      "4            0      0.377654\n"
     ]
    }
   ],
   "source": [
    "# Train the logistic regression model on the training data\n",
    "clf_logistic = LogisticRegression(solver='lbfgs').fit(X_train_new, np.ravel(y_train_new))\n",
    "\n",
    "# Create predictions of probability for loan status using test data\n",
    "preds = clf_logistic.predict_proba(X_test_new)\n",
    "\n",
    "# Create dataframes of first five predictions, and first five true labels\n",
    "preds_df = pd.DataFrame(preds[:,1][0:5], columns = ['prob_default'])\n",
    "true_df = y_test_new.head()\n",
    "\n",
    "# Concatenate and print the two data frames for comparison\n",
    "print(pd.concat([true_df.reset_index(drop = True), preds_df], axis = 1))"
   ]
  },
  {
   "cell_type": "markdown",
   "id": "f5bc0576-2f3d-4085-9033-6dff06013ba8",
   "metadata": {},
   "source": [
    "some predictions now, but they don't look very accurate do they? It looks like most of the rows with loan_status at 1 have a low probability of default. How good are the rest of the predictions? Next, let's see if we can determine how accurate the entire model is."
   ]
  },
  {
   "cell_type": "markdown",
   "id": "1bca5128-f6b9-4844-bcc3-a12a002dc43a",
   "metadata": {},
   "source": [
    "1. Credit model performance\n",
    "We saw predictions for probability of default against true values for loan status, but how do we analyze the performance of our model?\n",
    "\n",
    "2. Model accuracy scoring\n",
    "The easiest way to analyze performance is with accuracy. Accuracy is the number of correct predictions divided by the total number of predictions. One way to check this is to use the score method within scikit-learn on the logistic regression. This is used on the trained model and returns the average accuracy for the test set. Using the score method will display this accuracy as a percentage. In this example, it tells us that 81 percent of the loans were predicted correctly.\n",
    "\n",
    "3. ROC curve charts\n",
    "R-O-C charts are a great way to visualize the performance of our model. They plot the true positive rate, the percentage of correctly predicted defaults, against the false positive rate, the percentage of incorrectly predicted defaults. Using the roc_curve function in scikit-learn, we create these two values and the thresholds all at once. From there, we use a normal line plot to see the results. The dotted blue line represents a random prediction and the orange line represents our model's predictions.\n",
    "\n",
    "4. Analyzing ROC charts\n",
    "R-O-C charts are interpreted by looking at how far away the model's curve gets from the dotted blue line shown here, which represents the random prediction. This movement away from the line is called lift. The more lift we have, the larger the area under the curve gets. The A-U-C is the calculated area between the curve and the random prediction. This is a direct indicator of how well our model makes predictions.\n",
    "\n",
    "5. Default thresholds\n",
    "To analyze performance further, we need to decide what probability range is a default, and what is a non-default. Let's say that we decide any probability over 0.5 is a default, and anything below that is a non-default. What this means is that we will assign a new loan_status to these loans based on their probability of default and the threshold. Once we have this, we can further check the model's performance.\n",
    "\n",
    "6. Setting the threshold\n",
    "Once the threshold is defined, we need to relabel our loans based on that threshold. For that, we will first need to create a variable to store the predicted probabilities. Then we can create a data frame from the second column which contains the probabilities of default. Then we apply a quick function to assign a value of 1 if the probability of default is above our threshold of 0.5. The lambda is there just to tell Python that we want to use a one-time function without defining it. The result of this is a data frame with new values for loan status based on our threshold.\n",
    "\n",
    "7. Credit classification reports\n",
    "Another really useful function for evaluating our models is the classification report function within scikit-learn. This will show us several different evaluation metrics all at once! We use this function to evaluate our model using our true values for loan status stored in the y_test set, and our predicted loan status values from our logistic regression and the threshold we set. There are 2 really useful metrics in this table, and they are the precision and recall. For now, let's focus on recall.\n",
    "\n",
    "8. Selecting classification metrics\n",
    "Sometimes after generating the report, you want to select or store specific values from within the report. To do this, you can use the precision recall fscore support function within sci-kit learn. With this function, we can get the recall for defaults from by subsetting the report the way we would any array. Here we select the second value from the second set."
   ]
  },
  {
   "cell_type": "markdown",
   "id": "5b0b1a0d-ab15-413d-9e5c-33dc13fcd645",
   "metadata": {},
   "source": [
    "Default classification reporting\n",
    "It's time to take a closer look at the evaluation of the model. Here is where setting the threshold for probability of default will help you analyze the model's performance through classification reporting.\n",
    "\n",
    "Creating a data frame of the probabilities makes them easier to work with, because you can use all the power of pandas. Apply the threshold to the data and check the value counts for both classes of loan_status to see how many predictions of each are being created. This will help with insight into the scores from the classification report.\n",
    "\n",
    "The cr_loan_prep data set, trained logistic regression clf_logistic, true loan status values y_test, and predicted probabilities, preds are loaded in the workspace"
   ]
  },
  {
   "cell_type": "code",
   "execution_count": 24,
   "id": "42a0d48a-93ee-4b22-a15f-58c9e45e181e",
   "metadata": {},
   "outputs": [
    {
     "name": "stdout",
     "output_type": "stream",
     "text": [
      "0    11219\n",
      "1      567\n",
      "Name: loan_status, dtype: int64\n",
      "              precision    recall  f1-score   support\n",
      "\n",
      " Non-Default       0.81      0.98      0.89      9194\n",
      "     Default       0.73      0.16      0.26      2592\n",
      "\n",
      "    accuracy                           0.80     11786\n",
      "   macro avg       0.77      0.57      0.57     11786\n",
      "weighted avg       0.79      0.80      0.75     11786\n",
      "\n"
     ]
    }
   ],
   "source": [
    "# Create a dataframe for the probabilities of default\n",
    "preds_df = pd.DataFrame(preds[:,1], columns = ['prob_default'])\n",
    "\n",
    "preds_df_lr_later = preds_df\n",
    "# Reassign loan status based on the threshold\n",
    "preds_df['loan_status'] = preds_df['prob_default'].apply(lambda x: 1 if x > 0.50 else 0)\n",
    "\n",
    "\n",
    "# Print the row counts for each loan status\n",
    "print(preds_df['loan_status'].value_counts())\n",
    "\n",
    "# Print the classification report\n",
    "target_names = ['Non-Default', 'Default']\n",
    "print( classification_report(y_test_new, preds_df['loan_status'], target_names=target_names))"
   ]
  },
  {
   "cell_type": "code",
   "execution_count": 25,
   "id": "ff148147-8087-4d3f-bcc8-47d78d353f21",
   "metadata": {},
   "outputs": [
    {
     "name": "stdout",
     "output_type": "stream",
     "text": [
      "[0.12980511 0.24316096 0.10032466 ... 0.46455041 0.04981832 0.19134492]\n",
      "              precision    recall  f1-score   support\n",
      "\n",
      " Non-Default       0.86      0.92      0.89      9194\n",
      "     Default       0.62      0.45      0.52      2592\n",
      "\n",
      "    accuracy                           0.82     11786\n",
      "   macro avg       0.74      0.69      0.71     11786\n",
      "weighted avg       0.80      0.82      0.81     11786\n",
      "\n"
     ]
    }
   ],
   "source": [
    "clf_logistic_preds_later=preds[:, 1]\n",
    "print(clf_logistic_preds_later)\n",
    "preds_df_lr_later['loan_status'] = preds_df_lr_later['prob_default'].apply(lambda x: 1 if x > 0.40 else 0)\n",
    "CR_lr = classification_report(y_test_new, preds_df_lr_later['loan_status'], target_names=target_names)\n",
    "print(CR_lr)"
   ]
  },
  {
   "cell_type": "code",
   "execution_count": 26,
   "id": "58a95775-6ae1-4bf9-8cd1-593f9a84f0cd",
   "metadata": {},
   "outputs": [
    {
     "data": {
      "text/html": [
       "<div>\n",
       "<style scoped>\n",
       "    .dataframe tbody tr th:only-of-type {\n",
       "        vertical-align: middle;\n",
       "    }\n",
       "\n",
       "    .dataframe tbody tr th {\n",
       "        vertical-align: top;\n",
       "    }\n",
       "\n",
       "    .dataframe thead th {\n",
       "        text-align: right;\n",
       "    }\n",
       "</style>\n",
       "<table border=\"1\" class=\"dataframe\">\n",
       "  <thead>\n",
       "    <tr style=\"text-align: right;\">\n",
       "      <th></th>\n",
       "      <th>prob_default</th>\n",
       "      <th>loan_status</th>\n",
       "    </tr>\n",
       "  </thead>\n",
       "  <tbody>\n",
       "    <tr>\n",
       "      <th>0</th>\n",
       "      <td>0.129805</td>\n",
       "      <td>0</td>\n",
       "    </tr>\n",
       "    <tr>\n",
       "      <th>1</th>\n",
       "      <td>0.243161</td>\n",
       "      <td>0</td>\n",
       "    </tr>\n",
       "    <tr>\n",
       "      <th>2</th>\n",
       "      <td>0.100325</td>\n",
       "      <td>0</td>\n",
       "    </tr>\n",
       "    <tr>\n",
       "      <th>3</th>\n",
       "      <td>0.252148</td>\n",
       "      <td>0</td>\n",
       "    </tr>\n",
       "    <tr>\n",
       "      <th>4</th>\n",
       "      <td>0.377654</td>\n",
       "      <td>0</td>\n",
       "    </tr>\n",
       "    <tr>\n",
       "      <th>...</th>\n",
       "      <td>...</td>\n",
       "      <td>...</td>\n",
       "    </tr>\n",
       "    <tr>\n",
       "      <th>11781</th>\n",
       "      <td>0.096698</td>\n",
       "      <td>0</td>\n",
       "    </tr>\n",
       "    <tr>\n",
       "      <th>11782</th>\n",
       "      <td>0.520755</td>\n",
       "      <td>1</td>\n",
       "    </tr>\n",
       "    <tr>\n",
       "      <th>11783</th>\n",
       "      <td>0.464550</td>\n",
       "      <td>1</td>\n",
       "    </tr>\n",
       "    <tr>\n",
       "      <th>11784</th>\n",
       "      <td>0.049818</td>\n",
       "      <td>0</td>\n",
       "    </tr>\n",
       "    <tr>\n",
       "      <th>11785</th>\n",
       "      <td>0.191345</td>\n",
       "      <td>0</td>\n",
       "    </tr>\n",
       "  </tbody>\n",
       "</table>\n",
       "<p>11786 rows × 2 columns</p>\n",
       "</div>"
      ],
      "text/plain": [
       "       prob_default  loan_status\n",
       "0          0.129805            0\n",
       "1          0.243161            0\n",
       "2          0.100325            0\n",
       "3          0.252148            0\n",
       "4          0.377654            0\n",
       "...             ...          ...\n",
       "11781      0.096698            0\n",
       "11782      0.520755            1\n",
       "11783      0.464550            1\n",
       "11784      0.049818            0\n",
       "11785      0.191345            0\n",
       "\n",
       "[11786 rows x 2 columns]"
      ]
     },
     "execution_count": 26,
     "metadata": {},
     "output_type": "execute_result"
    }
   ],
   "source": [
    "preds_df"
   ]
  },
  {
   "cell_type": "markdown",
   "id": "1276c57c-903f-4a6c-b60a-d1edfedcdd96",
   "metadata": {},
   "source": [
    "it looks like almost all of our test set was predicted to be non-default. The recall for defaults is 0.16 meaning 16% of our true defaults were predicted correctly."
   ]
  },
  {
   "cell_type": "markdown",
   "id": "93b77a34-9879-47b3-95a3-de1b77afa7c5",
   "metadata": {},
   "source": [
    "### Selecting report metrics\n",
    "The classification_report() has many different metrics within it, but you may not always want to print out the full report. Sometimes you just want specific values to compare models or use for other purposes.\n",
    "\n",
    "There is a function within scikit-learn that pulls out the values for you. That function is precision_recall_fscore_support() and it takes in the same parameters as classification_report.\n",
    "\n",
    "It is imported and used like this:\n",
    "\n",
    "### Import function\n",
    "from sklearn.metrics import precision_recall_fscore_support\n",
    "### Select all non-averaged values from the report\n",
    "precision_recall_fscore_support(y_true,predicted_values)\n",
    "The cr_loan_prep data set along with the predictions in preds_df have already been loaded in the workspace."
   ]
  },
  {
   "cell_type": "code",
   "execution_count": 27,
   "id": "96bb7519-d43a-4f87-b8eb-9c5152b08a50",
   "metadata": {},
   "outputs": [
    {
     "name": "stdout",
     "output_type": "stream",
     "text": [
      "              precision    recall  f1-score   support\n",
      "\n",
      " Non-Default       0.86      0.92      0.89      9194\n",
      "     Default       0.62      0.45      0.52      2592\n",
      "\n",
      "    accuracy                           0.82     11786\n",
      "   macro avg       0.74      0.69      0.71     11786\n",
      "weighted avg       0.80      0.82      0.81     11786\n",
      "\n"
     ]
    }
   ],
   "source": [
    "# Print the classification report\n",
    "target_names = ['Non-Default', 'Default']\n",
    "print(classification_report(y_test_new, preds_df['loan_status'], target_names=target_names))"
   ]
  },
  {
   "cell_type": "code",
   "execution_count": 28,
   "id": "de26c3bc-198a-4ae0-8603-af7b81aaba21",
   "metadata": {},
   "outputs": [
    {
     "name": "stdout",
     "output_type": "stream",
     "text": [
      "(array([0.85600484, 0.62279294]), array([0.92331956, 0.44907407]), array([0.88838889, 0.52185609]), array([9194, 2592], dtype=int64))\n"
     ]
    }
   ],
   "source": [
    "# Print all the non-average values from the report\n",
    "print(precision_recall_fscore_support(y_test,preds_df['loan_status']))"
   ]
  },
  {
   "cell_type": "code",
   "execution_count": 29,
   "id": "fa79b103-c3a9-496c-b9e7-d245593c660b",
   "metadata": {},
   "outputs": [
    {
     "name": "stdout",
     "output_type": "stream",
     "text": [
      "[0.85600484 0.62279294]\n"
     ]
    }
   ],
   "source": [
    "# Print the first two numbers from the report\n",
    "print(precision_recall_fscore_support(y_test,preds_df['loan_status'])[0])"
   ]
  },
  {
   "cell_type": "markdown",
   "id": "5704618e-4d3e-412b-9b16-a8fca65ebc94",
   "metadata": {},
   "source": [
    " to pull out specific values from the report to either store later for comparison, or use to check against portfolio performance. Remember the impact of recall for defaults? This way, you can store that value for later calculations."
   ]
  },
  {
   "cell_type": "markdown",
   "id": "a14a4339-d50f-4f4d-a46f-02a9de7631f2",
   "metadata": {},
   "source": [
    "Visually scoring credit models\n",
    "Now, you want to visualize the performance of the model. In ROC charts, the X and Y axes are two metrics you've already looked at: the false positive rate (fall-out), and the true positive rate (sensitivity).\n",
    "\n",
    "You can create a ROC chart of it's performance with the following code:\n",
    "\n",
    "fallout, sensitivity, thresholds = roc_curve(y_test, prob_default)\n",
    "plt.plot(fallout, sensitivity)\n",
    "To calculate the AUC score, you use roc_auc_score()."
   ]
  },
  {
   "cell_type": "code",
   "execution_count": 30,
   "id": "8174ffb8-0483-4382-bef2-18b1d2349f20",
   "metadata": {},
   "outputs": [
    {
     "name": "stdout",
     "output_type": "stream",
     "text": [
      "0.8020532835567623\n"
     ]
    },
    {
     "data": {
      "image/png": "[encoded data removed]",
      "text/plain": [
       "<Figure size 640x480 with 1 Axes>"
      ]
     },
     "metadata": {},
     "output_type": "display_data"
    }
   ],
   "source": [
    "# Create predictions and store them in a variable\n",
    "preds = clf_logistic.predict_proba(X_test_new)\n",
    "\n",
    "# Print the accuracy score the model\n",
    "print(clf_logistic.score(X_test_new, y_test_new))\n",
    "\n",
    "# Plot the ROC curve of the probabilities of default\n",
    "prob_default = preds[:, 1]\n",
    "fallout, sensitivity, thresholds = roc_curve(y_test_new, prob_default)\n",
    "plt.plot(fallout, sensitivity, color = 'darkorange')\n",
    "plt.plot([0, 1], [0, 1], linestyle='--')\n",
    "plt.show()\n",
    "\n",
    "# Compute the AUC and store it in a variable\n",
    "auc = roc_auc_score(y_test_new, prob_default)"
   ]
  },
  {
   "cell_type": "markdown",
   "id": "bbb6b763-b30c-4c66-a8d4-1f567efc2139",
   "metadata": {},
   "source": [
    "the accuracy for this model is about 80% and the AUC score is 76%. Notice that what the ROC chart shows us is the tradeoff between all values of our false positive rate (fallout) and true positive rate (sensitivity)."
   ]
  },
  {
   "cell_type": "markdown",
   "id": "bfa27732-e365-4ac8-b061-7f946a24f898",
   "metadata": {},
   "source": [
    "1. Model discrimination and impact\n",
    "We've looked at some ways to evaluate our logistic regression. Let's talk more about thresholds and their impact on portfolio performance.\n",
    "\n",
    "2. Confusion matrices\n",
    "Another way to analyze our model's performance is with the confusion matrix. These will show us all our correct and incorrect predictions for loan status. The confusion matrix has four sections: true positives, false positives, false negatives, and true negatives. We've looked at recall for defaults within classification reports. That formula and where it resides in the confusion matrix are shown here.\n",
    "\n",
    "3. Default recall for loan status\n",
    "The definition of default recall, also called sensitivity, is the proportion of actual positives correctly predicted. Before, we retrieved this value from the classification report without understanding how it's calculated. Recall is found by taking the number of true defaults and dividing it by the sum of true defaults and defaults predicted as non-default.\n",
    "\n",
    "4. Recall portfolio impact\n",
    "Let's look at the recall for defaults highlighted in red in a classification report. This is an example of a report from an under-performing Logistic Regression model. Here, the proportion of true defaults predicted by our model was only 4 percent.\n",
    "\n",
    "5. Recall portfolio impact\n",
    "Imagine that we have 50 thousand loans in our portfolio, and they each have a total loan amount of 50 dollars. As seen in the classification report, this model has a default recall of 4 percent. So, that means we correctly predicted 4 percent of defaults, and incorrectly predicted 96 percent of defaults. If all of our true default loans defaulted right now, our estimated loss from the portfolio would be 2.4 million dollars! This loss would be something we didn't plan for, and would be unexpected.\n",
    "\n",
    "6. Recall, precision, and accuracy\n",
    "When it comes to metrics like recall, precision, and accuracy, it can be challenging to find an optimum number for all three as a target. Have a look at this example graph of a logistic regression model on the credit data. The blue line, which is default recall, starts out really high. This is because if we predict all loans to be a default, we definitely predict all of our defaults correctly! You can also see that when default recall is high, more often than not non-default recall is low. Initially, we have to make a determination about what scores for each are good enough in order to set a baseline for performance."
   ]
  },
  {
   "cell_type": "code",
   "execution_count": 31,
   "id": "60263790-f967-4487-b7b6-4252a5564732",
   "metadata": {},
   "outputs": [
    {
     "name": "stdout",
     "output_type": "stream",
     "text": [
      "[[9040  154]\n",
      " [2179  413]]\n"
     ]
    }
   ],
   "source": [
    "# Set the threshold for defaults to 0.5\n",
    "preds_df['loan_status'] = preds_df['prob_default'].apply(lambda x: 1 if x > 0.5 else 0)\n",
    "\n",
    "# Print the confusion matrix\n",
    "print(confusion_matrix(y_test,preds_df['loan_status']))"
   ]
  },
  {
   "cell_type": "code",
   "execution_count": 32,
   "id": "2aa9c04e",
   "metadata": {},
   "outputs": [
    {
     "name": "stdout",
     "output_type": "stream",
     "text": [
      "[[9040  154]\n",
      " [2179  413]]\n"
     ]
    }
   ],
   "source": [
    "# Set the threshold for defaults to 0.5\n",
    "preds_df['loan_status'] = preds_df['prob_default'].apply(lambda x: 1 if x > 0.5 else 0)\n",
    "\n",
    "# Print the confusion matrix\n",
    "print(confusion_matrix(y_test,preds_df['loan_status']))"
   ]
  },
  {
   "cell_type": "code",
   "execution_count": 33,
   "id": "d454bcf0-45b5-4a61-9c0d-c6cad58cacc4",
   "metadata": {},
   "outputs": [
    {
     "name": "stdout",
     "output_type": "stream",
     "text": [
      "[[8489  705]\n",
      " [1428 1164]]\n"
     ]
    }
   ],
   "source": [
    "# Set the threshold for defaults to 0.4\n",
    "preds_df['loan_status'] = preds_df['prob_default'].apply(lambda x: 1 if x > 0.4 else 0)\n",
    "\n",
    "# Print the confusion matrix\n",
    "print(confusion_matrix(y_test,preds_df['loan_status']))"
   ]
  },
  {
   "cell_type": "markdown",
   "id": "eb1a6ffc-3323-450c-9262-78f199a54eba",
   "metadata": {},
   "source": [
    "The value for default recall at this threshold is actually pretty high! "
   ]
  },
  {
   "cell_type": "markdown",
   "id": "384bd3a3-6d40-4295-8cbf-d600d785670d",
   "metadata": {},
   "source": [
    "How thresholds affect performance\n",
    "Setting the threshold to 0.4 shows promising results for model evaluation. Now you can assess the financial impact using the default recall which is selected from the classification reporting using the function precision_recall_fscore_support().\n",
    "\n",
    "For this, you will estimate the amount of unexpected loss using the default recall to find what proportion of defaults you did not catch with the new threshold. This will be a dollar amount which tells you how much in losses you would have if all the unfound defaults were to default all at once.\n",
    "\n",
    "The average loan value, avg_loan_amnt has been calculated = 9583.600936895346 and made available in the workspace along with preds_df and y_test."
   ]
  },
  {
   "cell_type": "code",
   "execution_count": 34,
   "id": "7a7b2fc8-9442-4a65-b0d7-f2d477b99622",
   "metadata": {},
   "outputs": [],
   "source": [
    "avg_loan_amnt = 9583.600936895346"
   ]
  },
  {
   "cell_type": "code",
   "execution_count": 35,
   "id": "c5c49ecf-9ede-46c6-a884-6a50331f92b4",
   "metadata": {},
   "outputs": [
    {
     "name": "stdout",
     "output_type": "stream",
     "text": [
      "9868047.53692514\n"
     ]
    }
   ],
   "source": [
    "# Reassign the values of loan status based on the new threshold\n",
    "preds_df['loan_status'] = preds_df['prob_default'].apply(lambda x: 1 if x > 0.4 else 0)\n",
    "\n",
    "# Store the number of loan defaults from the prediction data\n",
    "num_defaults = preds_df['loan_status'].value_counts()[1]\n",
    "\n",
    "# Store the default recall from the classification report\n",
    "default_recall = precision_recall_fscore_support(y_test,preds_df['loan_status'])[1][1]\n",
    "\n",
    "# Calculate the estimated impact of the new default recall rate\n",
    "print(num_defaults * avg_loan_amnt * (1 - default_recall))"
   ]
  },
  {
   "cell_type": "markdown",
   "id": "3fa0c768-f5c4-4dc2-98c6-77650facb245",
   "metadata": {},
   "source": [
    "By our estimates, this loss would be around $9.8 million. That seems like a lot! Try rerunning this code with threshold values of 0.3 and 0.5"
   ]
  },
  {
   "cell_type": "markdown",
   "id": "e39156aa-8776-47c6-911a-739bda958810",
   "metadata": {},
   "source": [
    "Threshold selection\n",
    "You know there is a trade off between metrics like default recall, non-default recall, and model accuracy. One easy way to approximate a good starting threshold value is to look at a plot of all three using matplotlib. With this graph, you can see how each of these metrics look as you change the threshold values and find the point at which the performance of all three is good enough to use for the credit data.\n",
    "\n",
    "The threshold values thresh, default recall values def_recalls, the non-default recall values nondef_recalls and the accuracy scores accs have been loaded into the workspace. To make the plot easier to read, the array ticks for x-axis tick marks has been loaded as well."
   ]
  },
  {
   "cell_type": "code",
   "execution_count": 36,
   "id": "753e6aa9-bd99-4ed6-a97b-8076f80e9be5",
   "metadata": {},
   "outputs": [],
   "source": [
    "thresh = [0.2, 0.225, 0.25, 0.275, 0.3, 0.325, 0.35, 0.375, 0.4, 0.425, 0.45, 0.475, 0.5, 0.525, 0.55, 0.575, 0.6, 0.625, 0.65]"
   ]
  },
  {
   "cell_type": "code",
   "execution_count": 37,
   "id": "69db8c3a-7158-4bc8-9976-82746fe2f9be",
   "metadata": {},
   "outputs": [],
   "source": [
    "def_recalls = [0.7981438515081206, 0.7583139984532096, 0.7157772621809745, 0.6759474091260634, 0.6349574632637278, 0.594354215003867, 0.5467904098994586, 0.5054137664346481, 0.46403712296983757, 0.39984532095901004, 0.32211910286156226, 0.2354988399071926, 0.16782675947409126, 0.1148491879350348, 0.07733952049497293, 0.05529775715390565, 0.03750966744006187, 0.026295436968290797, 0.017788089713843776]"
   ]
  },
  {
   "cell_type": "code",
   "execution_count": 38,
   "id": "a889ebbb-571c-446b-8dbf-8bee2e64499f",
   "metadata": {},
   "outputs": [],
   "source": [
    "nondef_recalls = [0.5342465753424658, 0.5973037616873234, 0.6552511415525114, 0.708306153511633, 0.756468797564688, 0.8052837573385518, 0.8482278756251359, 0.8864970645792564, 0.9215046749293324, 0.9492280930637095, 0.9646662317895195, 0.9733637747336378, 0.9809741248097412, 0.9857577734290063, 0.9902152641878669, 0.992280930637095, 0.9948901935203305, 0.9966297021091541, 0.997499456403566]"
   ]
  },
  {
   "cell_type": "code",
   "execution_count": 39,
   "id": "a1d9ffcd-3183-427f-993d-0e538621eb13",
   "metadata": {},
   "outputs": [],
   "source": [
    "accs = [0.5921588594704684, 0.6326374745417516, 0.6685336048879837, 0.7012050237610319, 0.7298031228784793, 0.7589952477936185, 0.7820773930753564, 0.8028682959945689, 0.8211133740665308, 0.8286659877800407, 0.8236591989137814, 0.811439239646979, 0.8025288526816021, 0.7946367956551256, 0.7898845892735913, 0.7866598778004074, 0.7847929395790902, 0.7836897488119484, 0.7825016972165648]"
   ]
  },
  {
   "cell_type": "code",
   "execution_count": 40,
   "id": "6523c313-3bb0-440d-8a45-a988cccd11d8",
   "metadata": {},
   "outputs": [],
   "source": [
    "ticks = [0.2, 0.25, 0.3, 0.35, 0.4, 0.45, 0.5, 0.55, 0.6, 0.65]"
   ]
  },
  {
   "cell_type": "code",
   "execution_count": 41,
   "id": "83569ae9-b35e-4e5b-8e70-ad2ab170dd12",
   "metadata": {},
   "outputs": [
    {
     "data": {
      "image/png": "[encoded data removed]",
      "text/plain": [
       "<Figure size 640x480 with 1 Axes>"
      ]
     },
     "metadata": {},
     "output_type": "display_data"
    }
   ],
   "source": [
    "plt.plot(thresh,def_recalls)\n",
    "plt.plot(thresh,nondef_recalls)\n",
    "plt.plot(thresh,accs)\n",
    "plt.xlabel(\"Probability Threshold\")\n",
    "plt.xticks(ticks)\n",
    "plt.legend([\"Default Recall\",\"Non-default Recall\",\"Model Accuracy\"])\n",
    "plt.show()"
   ]
  },
  {
   "cell_type": "markdown",
   "id": "5a9969af-e6ec-4bd9-b181-30be61123230",
   "metadata": {},
   "source": [
    "This is the easiest pattern to see on this graph, because it's the point where all three lines converge. This threshold would make a great starting point, but declaring all loans about 0.275 to be a default is probably not practical."
   ]
  },
  {
   "cell_type": "markdown",
   "id": "7954848f-99e0-4bd3-a9e9-38d61a1f9d20",
   "metadata": {},
   "source": [
    "1. Gradient boosted trees with XGBoost\n",
    "We've used many different ways to experiment with a logistic regression for probability of default. Now, let's have a look at gradient boosted decision trees using XGBoost.\n",
    "\n",
    "2. Decision trees\n",
    "So what is a decision tree? They are machine learning models which use decisions as steps in a process to eventually identify our loan status. While they produce predictions similar to logistic regressions, they are not structured the same way. Here is an example of a simple decision tree. The first box, or node, has decided to split the data into two groups. Those with an employment length above 10, and those below. Then it uses loan intent medical the same way. The results of these splits are yes and no decisions that eventually lead to a predicted loan status of default or non-default.\n",
    "\n",
    "3. Decision trees for loan status\n",
    "Let's have a look at a simple example of a decision tree on the loan data when what we are predicting is still defaults. Here, we have a red dot for each default, and a green dot for each non-default. The red shaded area is what our model predicted as default. While it predicted all of the defaults correctly, it predicted two non-defaults as default.\n",
    "\n",
    "4. Decision tree impact\n",
    "What are the consequences of this? Let's say both of these loans were worth 1500 and 1200 at the time we predicted their status. Then, maybe we decide to sell off all debt we think is likely to default for 250 per loan. As a result of the model, our loss is 2200 dollars for just two loans!\n",
    "\n",
    "5. A forest of trees\n",
    "XGBoost doesn't use just one decision tree though, but a large number of them in what's known as an ensemble through a method called gradient boosting. Each tree in the ensemble is like the one we just saw, and is a weak predictor. Have a look at this example. The first two boxes on the left represent two different individual models. Each of them predicts the defaults, but they also predict some non-defaults as defaults. However, when we use gradient boosting with XGBoost, we get the box on the right which combines the two weak models. In this example, the boosted model predicts all of the loans correctly.\n",
    "\n",
    "6. Creating and training trees\n",
    "The trees we will use are available within the xgboost package, and they train similar to logistic regression models. Here, we can see that the gradient boosted tree is created using the XGBClassifier function. Next, fit is called on the model the same as before and with the same training data.\n",
    "\n",
    "7. Default predictions with XGBoost\n",
    "These models predict the same way as the logistic regression do. We can use predict_proba to predict probabilities of default. The predict method gives us a value of 0 or 1 for loan status. The predict_proba method returns an array of probabilities for default and non-default. The predict method returns an array of the loan status.\n",
    "\n",
    "8. Hyperparameters of gradient boosted trees\n",
    "The models have parameters that are like settings that affect how a model learns. These settings are called hyperparameters. Hyperparameters cannot be learned from data; they have to be set by us. Let's look at a few of these hyperparameters. The learning rate tells the model how quickly it should learn in each step of the ensemble. The smaller the value, the more conservative it is at each step. The max depth tells the model how deep each tree can go. Keeping this value low ensures the model is not too complex."
   ]
  },
  {
   "cell_type": "markdown",
   "id": "e8241e8c-7922-4ab5-b835-29ffa5dcff45",
   "metadata": {},
   "source": [
    "Trees for defaults\n",
    "You will now train a gradient boosted tree model on the credit data, and see a sample of some of the predictions. Do you remember when you first looked at the predictions of the logistic regression model? They didn't look good. "
   ]
  },
  {
   "cell_type": "code",
   "execution_count": 42,
   "id": "225c7b3b-c96e-40a2-8b53-a742aece801d",
   "metadata": {},
   "outputs": [
    {
     "name": "stdout",
     "output_type": "stream",
     "text": [
      "       loan_status  prob_default\n",
      "0                0      0.069717\n",
      "1                0      0.000514\n",
      "2                0      0.001946\n",
      "3                0      0.045644\n",
      "4                0      0.432617\n",
      "...            ...           ...\n",
      "11781            0      0.041030\n",
      "11782            1      0.998818\n",
      "11783            1      0.981503\n",
      "11784            0      0.002784\n",
      "11785            1      0.943154\n",
      "\n",
      "[11786 rows x 2 columns]\n"
     ]
    }
   ],
   "source": [
    "# Train a model\n",
    "import xgboost as xgb\n",
    "clf_gbt = xgb.XGBClassifier().fit(X_train_new, np.ravel(y_train_new))\n",
    "\n",
    "# Predict with a model\n",
    "gbt_preds_prob = clf_gbt.predict_proba(X_test_new)\n",
    "\n",
    "# Predict the labels for loan status\n",
    "gbt_preds = clf_gbt.predict(X_test_new)\n",
    "\n",
    "# Create dataframes of first five predictions, and first five true labels\n",
    "xgb_preds_df = pd.DataFrame(gbt_preds_prob[:,1][0:], columns = ['prob_default'])\n",
    "true_df = y_test_new\n",
    "\n",
    "# Concatenate and print the two data frames for comparison\n",
    "print(pd.concat([true_df.reset_index(drop = True), xgb_preds_df], axis = 1))"
   ]
  },
  {
   "cell_type": "code",
   "execution_count": 43,
   "id": "0c80ceaa-de60-44ba-bbc8-c698391fa472",
   "metadata": {},
   "outputs": [
    {
     "name": "stdout",
     "output_type": "stream",
     "text": [
      "[6.9717355e-02 5.1445863e-04 1.9455771e-03 ... 9.8150349e-01 2.7836582e-03\n",
      " 9.4315362e-01]\n",
      "       prob_default\n",
      "0          0.069717\n",
      "1          0.000514\n",
      "2          0.001946\n",
      "3          0.045644\n",
      "4          0.432617\n",
      "...             ...\n",
      "11781      0.041030\n",
      "11782      0.998818\n",
      "11783      0.981503\n",
      "11784      0.002784\n",
      "11785      0.943154\n",
      "\n",
      "[11786 rows x 1 columns]\n"
     ]
    }
   ],
   "source": [
    "clf_gbt_preds_later= gbt_preds_prob[:, 1]\n",
    "print(clf_gbt_preds_later)\n",
    "preds_df_gbt_later=xgb_preds_df\n",
    "print(preds_df_gbt_later)"
   ]
  },
  {
   "cell_type": "code",
   "execution_count": 44,
   "id": "d112969e-e2e9-4d14-a3b3-55fc67c15772",
   "metadata": {},
   "outputs": [
    {
     "name": "stdout",
     "output_type": "stream",
     "text": [
      "       prob_default  loan_status\n",
      "0          0.069717            0\n",
      "1          0.000514            0\n",
      "2          0.001946            0\n",
      "3          0.045644            0\n",
      "4          0.432617            1\n",
      "...             ...          ...\n",
      "11781      0.041030            0\n",
      "11782      0.998818            1\n",
      "11783      0.981503            1\n",
      "11784      0.002784            0\n",
      "11785      0.943154            1\n",
      "\n",
      "[11786 rows x 2 columns]\n"
     ]
    }
   ],
   "source": [
    "# Reassign loan status based on the threshold\n",
    "preds_df_gbt_later['loan_status'] = preds_df_gbt_later['prob_default'].apply(lambda x: 1 if x > 0.40 else 0)\n",
    "print(preds_df_gbt_later)"
   ]
  },
  {
   "cell_type": "code",
   "execution_count": 45,
   "id": "ad46cb0d-72f7-4d8d-8d8e-531b752b0c89",
   "metadata": {},
   "outputs": [
    {
     "name": "stdout",
     "output_type": "stream",
     "text": [
      "              precision    recall  f1-score   support\n",
      "\n",
      " Non-Default       0.94      0.98      0.96      9194\n",
      "     Default       0.92      0.76      0.83      2592\n",
      "\n",
      "    accuracy                           0.93     11786\n",
      "   macro avg       0.93      0.87      0.90     11786\n",
      "weighted avg       0.93      0.93      0.93     11786\n",
      "\n"
     ]
    }
   ],
   "source": [
    "# Print the classification report of the model\n",
    "target_names = ['Non-Default', 'Default']\n",
    "CR_gbt=(classification_report(y_test_new, preds_df_gbt_later['loan_status'], target_names=target_names))\n",
    "print(CR_gbt)"
   ]
  },
  {
   "cell_type": "markdown",
   "id": "64bc6d3e-4d8e-4bb5-b923-6a2687c0f56b",
   "metadata": {},
   "source": [
    "The predictions don't look the same as with the LogisticRegression(). Worth noticing that this model is already accurately predicting the probability of default for some loans with a true value of 1 in loan_status"
   ]
  },
  {
   "cell_type": "markdown",
   "id": "265b4334-54b3-499e-a4e6-67ede2c9f8f7",
   "metadata": {},
   "source": [
    "Gradient boosted portfolio performance\n",
    "At this point you've looked at predicting probability of default using both a LogisticRegression() and XGBClassifier(). You've looked at some scoring and have seen samples of the predictions, but what is the overall affect on portfolio performance? Try using expected loss as a scenario to express the importance of testing different models.\n",
    "\n",
    "A data frame called portfolio has been created to combine the probabilities of default for both models, the loss given default (assume 20% for now), and the loan_amnt which will be assumed to be the exposure at default.\n",
    "\n",
    "### Expected Loss = PD* LGD* EAD\n",
    "### expected_loss = prob_default* loss_given_default * loan_amnt\n"
   ]
  },
  {
   "cell_type": "code",
   "execution_count": 46,
   "id": "cb355b86-f4f3-435f-9332-c52b6a3ddd12",
   "metadata": {},
   "outputs": [],
   "source": [
    "portfolio = xgb_preds_df.join(preds_df, how='outer', lsuffix='_gbt', rsuffix='_lr')"
   ]
  },
  {
   "cell_type": "code",
   "execution_count": 47,
   "id": "9250bc97-0477-4030-af78-79bf218697fe",
   "metadata": {},
   "outputs": [
    {
     "data": {
      "text/html": [
       "<div>\n",
       "<style scoped>\n",
       "    .dataframe tbody tr th:only-of-type {\n",
       "        vertical-align: middle;\n",
       "    }\n",
       "\n",
       "    .dataframe tbody tr th {\n",
       "        vertical-align: top;\n",
       "    }\n",
       "\n",
       "    .dataframe thead th {\n",
       "        text-align: right;\n",
       "    }\n",
       "</style>\n",
       "<table border=\"1\" class=\"dataframe\">\n",
       "  <thead>\n",
       "    <tr style=\"text-align: right;\">\n",
       "      <th></th>\n",
       "      <th>prob_default_gbt</th>\n",
       "      <th>loan_status_gbt</th>\n",
       "      <th>prob_default_lr</th>\n",
       "      <th>loan_status_lr</th>\n",
       "    </tr>\n",
       "  </thead>\n",
       "  <tbody>\n",
       "    <tr>\n",
       "      <th>0</th>\n",
       "      <td>0.069717</td>\n",
       "      <td>0</td>\n",
       "      <td>0.129805</td>\n",
       "      <td>0</td>\n",
       "    </tr>\n",
       "    <tr>\n",
       "      <th>1</th>\n",
       "      <td>0.000514</td>\n",
       "      <td>0</td>\n",
       "      <td>0.243161</td>\n",
       "      <td>0</td>\n",
       "    </tr>\n",
       "    <tr>\n",
       "      <th>2</th>\n",
       "      <td>0.001946</td>\n",
       "      <td>0</td>\n",
       "      <td>0.100325</td>\n",
       "      <td>0</td>\n",
       "    </tr>\n",
       "    <tr>\n",
       "      <th>3</th>\n",
       "      <td>0.045644</td>\n",
       "      <td>0</td>\n",
       "      <td>0.252148</td>\n",
       "      <td>0</td>\n",
       "    </tr>\n",
       "    <tr>\n",
       "      <th>4</th>\n",
       "      <td>0.432617</td>\n",
       "      <td>1</td>\n",
       "      <td>0.377654</td>\n",
       "      <td>0</td>\n",
       "    </tr>\n",
       "    <tr>\n",
       "      <th>...</th>\n",
       "      <td>...</td>\n",
       "      <td>...</td>\n",
       "      <td>...</td>\n",
       "      <td>...</td>\n",
       "    </tr>\n",
       "    <tr>\n",
       "      <th>11781</th>\n",
       "      <td>0.041030</td>\n",
       "      <td>0</td>\n",
       "      <td>0.096698</td>\n",
       "      <td>0</td>\n",
       "    </tr>\n",
       "    <tr>\n",
       "      <th>11782</th>\n",
       "      <td>0.998818</td>\n",
       "      <td>1</td>\n",
       "      <td>0.520755</td>\n",
       "      <td>1</td>\n",
       "    </tr>\n",
       "    <tr>\n",
       "      <th>11783</th>\n",
       "      <td>0.981503</td>\n",
       "      <td>1</td>\n",
       "      <td>0.464550</td>\n",
       "      <td>1</td>\n",
       "    </tr>\n",
       "    <tr>\n",
       "      <th>11784</th>\n",
       "      <td>0.002784</td>\n",
       "      <td>0</td>\n",
       "      <td>0.049818</td>\n",
       "      <td>0</td>\n",
       "    </tr>\n",
       "    <tr>\n",
       "      <th>11785</th>\n",
       "      <td>0.943154</td>\n",
       "      <td>1</td>\n",
       "      <td>0.191345</td>\n",
       "      <td>0</td>\n",
       "    </tr>\n",
       "  </tbody>\n",
       "</table>\n",
       "<p>11786 rows × 4 columns</p>\n",
       "</div>"
      ],
      "text/plain": [
       "       prob_default_gbt  loan_status_gbt  prob_default_lr  loan_status_lr\n",
       "0              0.069717                0         0.129805               0\n",
       "1              0.000514                0         0.243161               0\n",
       "2              0.001946                0         0.100325               0\n",
       "3              0.045644                0         0.252148               0\n",
       "4              0.432617                1         0.377654               0\n",
       "...                 ...              ...              ...             ...\n",
       "11781          0.041030                0         0.096698               0\n",
       "11782          0.998818                1         0.520755               1\n",
       "11783          0.981503                1         0.464550               1\n",
       "11784          0.002784                0         0.049818               0\n",
       "11785          0.943154                1         0.191345               0\n",
       "\n",
       "[11786 rows x 4 columns]"
      ]
     },
     "execution_count": 47,
     "metadata": {},
     "output_type": "execute_result"
    }
   ],
   "source": [
    "portfolio"
   ]
  },
  {
   "cell_type": "code",
   "execution_count": 48,
   "id": "2109921a-7652-42d6-a808-9d2842ffc7f3",
   "metadata": {},
   "outputs": [],
   "source": [
    "portfolio = portfolio.assign(lgd = 0.2)"
   ]
  },
  {
   "cell_type": "code",
   "execution_count": 49,
   "id": "8e19d56d-6321-4a4b-b53f-5d00d46f1691",
   "metadata": {},
   "outputs": [],
   "source": [
    "portfolio = portfolio.join(X_test_new[['loan_amnt']].set_axis(portfolio.index))"
   ]
  },
  {
   "cell_type": "code",
   "execution_count": 50,
   "id": "d355f9cc-4355-4ebb-8b30-a1e9d26b138f",
   "metadata": {},
   "outputs": [
    {
     "name": "stdout",
     "output_type": "stream",
     "text": [
      "   prob_default_gbt  loan_status_gbt  prob_default_lr  loan_status_lr  lgd  \\\n",
      "0          0.069717                0         0.129805               0  0.2   \n",
      "1          0.000514                0         0.243161               0  0.2   \n",
      "2          0.001946                0         0.100325               0  0.2   \n",
      "3          0.045644                0         0.252148               0  0.2   \n",
      "4          0.432617                1         0.377654               0  0.2   \n",
      "\n",
      "   loan_amnt  \n",
      "0       9000  \n",
      "1      11000  \n",
      "2       3700  \n",
      "3      10800  \n",
      "4       7500  \n",
      "LR expected loss:  5483470.775015298\n",
      "GBT expected loss:  5299601.5916693155\n"
     ]
    }
   ],
   "source": [
    "# Print the first five rows of the portfolio data frame\n",
    "print(portfolio.head())\n",
    "\n",
    "# Create expected loss columns for each model using the formula\n",
    "portfolio['gbt_expected_loss'] = portfolio['prob_default_gbt'] * portfolio['lgd'] * portfolio['loan_amnt']\n",
    "portfolio['lr_expected_loss'] = portfolio['prob_default_lr'] * portfolio['lgd'] * portfolio['loan_amnt']\n",
    "\n",
    "# Print the sum of the expected loss for lr\n",
    "print('LR expected loss: ', np.sum(portfolio['lr_expected_loss']))\n",
    "\n",
    "# Print the sum of the expected loss for gbt\n",
    "print('GBT expected loss: ', np.sum(portfolio['gbt_expected_loss']))"
   ]
  },
  {
   "cell_type": "markdown",
   "id": "9213e3aa-4503-46f9-9fcc-58e057c2076d",
   "metadata": {},
   "source": [
    "It looks like the total expected loss for the XGBClassifier() model is quite a bit lower. When we talk about accuracy and precision, the goal is to generate models which have a low expected loss. Looking at a classification_report() helps as well"
   ]
  },
  {
   "cell_type": "code",
   "execution_count": 51,
   "id": "d7064f85-e12f-40af-8c60-046e80f14619",
   "metadata": {},
   "outputs": [
    {
     "name": "stdout",
     "output_type": "stream",
     "text": [
      "       prob_default\n",
      "0                 0\n",
      "1                 0\n",
      "2                 0\n",
      "3                 0\n",
      "4                 0\n",
      "...             ...\n",
      "11781             0\n",
      "11782             1\n",
      "11783             1\n",
      "11784             0\n",
      "11785             1\n",
      "\n",
      "[11786 rows x 1 columns]\n",
      "              precision    recall  f1-score   support\n",
      "\n",
      " Non-Default       0.93      0.99      0.96      9194\n",
      "     Default       0.96      0.74      0.84      2592\n",
      "\n",
      "    accuracy                           0.94     11786\n",
      "   macro avg       0.94      0.87      0.90     11786\n",
      "weighted avg       0.94      0.94      0.93     11786\n",
      "\n"
     ]
    }
   ],
   "source": [
    "# Creating pandas dataframe from numpy array\n",
    "gbt_preds_df = pd.DataFrame(gbt_preds)\n",
    "gbt_preds_df.columns = ['prob_default']\n",
    "print(gbt_preds_df)\n",
    "\n",
    "# Print the classification report of the model\n",
    "target_names = ['Non-Default', 'Default']\n",
    "print(classification_report(y_test_new, gbt_preds_df, target_names=target_names))"
   ]
  },
  {
   "cell_type": "markdown",
   "id": "3b9bab94-4058-486a-a1ee-0bc330d17099",
   "metadata": {},
   "source": [
    "Aftere have=ing a look at the precision and recall scores! Remember the low default recall values obtained from the LogisticRegression()? This model already appears to have serious potential."
   ]
  },
  {
   "cell_type": "markdown",
   "id": "3028912b-2eb7-40ac-b3d9-c254b71632c6",
   "metadata": {},
   "source": [
    "1. Column selection for credit risk\n",
    "We've trained logistic regression models and gradient boosted trees now. But does selecting specific columns affect model performance?\n",
    "\n",
    "2. Choosing specific columns\n",
    "When we first started working with logistic regression models, we used only a few columns. Now, we've been using all of the columns, but how do we know which are the most important for accurately predicting probability of default? For logistic regression models, we were looking at the coefficient of each column and interpreting that coefficient as a weight or measure of importance. But what do we use for our gradient boosted trees?\n",
    "\n",
    "3. Column importances\n",
    "The first easy way to tell which columns are important is to check the feature importances using the get booster and get score methods together. For this course we will focus on the weight type, which shows how many times the column appears in all the models' trees. Once we've trained a model, we are able to see the feature importances by calling these two methods in sequence This returns is a dictionary of each column's name with the weight number as shown here.\n",
    "\n",
    "4. Column importance interpretation\n",
    "These were the importance values we looked at in the last example, but how do we interpret this? In this example, our model created two trees which were gradient boosted. Our column importance for person home ownership was 2, and we can see here that the column appears in both trees. The person home ownership rent is only in one of the trees, so it's column importance is one.\n",
    "\n",
    "5. Plotting column importances\n",
    "We can also visualize the column importances with the plot importance function in xgboost. We call this function and pass in our model to see a nice visualization of the importances. In this example, our model created 400 trees, and the person_income column was used 315 times across all of them. So, 315 of the 400 trees used person_income.\n",
    "\n",
    "6. Choosing training columns\n",
    "Once we have the importances for each column, to determine if we want to create a new training set with only select columns. Different combinations of these columns will affect the overall performance Consider this example. We have two training sets. One has loan interest rate and employment length, while the other has these two columns and the loan's percentage of the person's income. In this example, adding another column improves the accuracy, but changes the importance of the other two columns and reduces default recall. Sometimes adding more columns increases accuracy, but it can also make it more difficult for the model to learn and decrease other performance metrics like default recall.\n",
    "\n",
    "7. F1 scoring for models\n",
    "It can be difficult to use two metrics like accuracy and recall to gauge a model's performance. Fortunately, there is already a defined metric that combines both of these two into one. This metric is the F1 score. This is a combination of both precision and recall. This is useful because it helps us keep recall for loan defaults as an important consideration for any model. The formula, as shown here, is two times the product of the precision and recall divided by their sum. The great thing is that this number already shows up in a classification report. Here, we see the F1-score numbers for both defaults and non-defaults."
   ]
  },
  {
   "cell_type": "markdown",
   "id": "19e724cd-8706-45c8-ac49-921bd47d0496",
   "metadata": {},
   "source": [
    "Column importance and default prediction\n",
    "When using multiple training sets with many different groups of columns, it's important to keep and eye on which columns matter and which do not. It can be expensive or time-consuming to maintain a set of columns even though they might not have any impact on loan_status.\n",
    "\n",
    "\n",
    "Train an XGBClassifier() model on this data, and check the column importance to see how each one performs to predict loan_status."
   ]
  },
  {
   "cell_type": "code",
   "execution_count": 52,
   "id": "ced85b74-6bd1-4c26-b459-c5122a52c0f8",
   "metadata": {},
   "outputs": [],
   "source": [
    "#The X data for this exercise was created with the following code:\n",
    "\n",
    "X_new1 = cr_loan_prep[['person_income','loan_int_rate','loan_percent_income','loan_amnt', 'person_home_ownership_MORTGAGE','loan_grade_F']]\n",
    "y_new1 = cr_loan_prep[['loan_status']]\n",
    "\n",
    "# Use test_train_split to create the training and test sets\n",
    "X_train_new1, X_test_new1, y_train_new1, y_test_new1 = train_test_split(X_new1, y_new1, test_size=.4, random_state=123)"
   ]
  },
  {
   "cell_type": "code",
   "execution_count": 53,
   "id": "ea1e11c5-21dd-424b-b83b-d3515f4b1b69",
   "metadata": {},
   "outputs": [
    {
     "name": "stdout",
     "output_type": "stream",
     "text": [
      "{'person_income': 1299.0, 'loan_int_rate': 994.0, 'loan_percent_income': 585.0, 'loan_amnt': 533.0, 'person_home_ownership_MORTGAGE': 115.0, 'loan_grade_F': 17.0}\n"
     ]
    }
   ],
   "source": [
    "# Create and train the model on the training data\n",
    "clf_gbt_new1 = xgb.XGBClassifier().fit(X_train_new1,np.ravel(y_train_new1))\n",
    "\n",
    "# Print the column importances from the model\n",
    "print(clf_gbt_new1.get_booster().get_score(importance_type = 'weight'))"
   ]
  },
  {
   "cell_type": "markdown",
   "id": "20c8bede-1e55-488c-b179-e344dcbc96e5",
   "metadata": {},
   "source": [
    "So, the importance for loan_grade_F is only 17 in this case. This could be because there are so few of the F-grade loans. While the F-grade loans don't add much to predictions here, they might affect the importance of other training columns."
   ]
  },
  {
   "cell_type": "markdown",
   "id": "2fe687fe-57dd-4054-9448-0017504bec5a",
   "metadata": {},
   "source": [
    "Visualizing column importance\n",
    "When the model is trained on different sets of columns it changes the performance, but does the importance for the same column change depending on which group it's in?\n",
    "\n",
    "Understanding how different columns are used to arrive at a loan_status prediction is very important for model interpretability."
   ]
  },
  {
   "cell_type": "code",
   "execution_count": 54,
   "id": "f5f98513-c832-4b2b-ac51-ce8494a19a83",
   "metadata": {},
   "outputs": [
    {
     "data": {
      "image/png": "[encoded data removed]",
      "text/plain": [
       "<Figure size 640x480 with 1 Axes>"
      ]
     },
     "metadata": {},
     "output_type": "display_data"
    }
   ],
   "source": [
    "# The data sets X2col and X3col have been created with the following code:\n",
    "X2col = cr_loan_prep[['loan_int_rate','person_emp_length']]\n",
    "\n",
    "# Use test_train_split to create the training and test sets\n",
    "X2col_train, X2col_test, y2_train_new1, y2_test_new1 = train_test_split(X2col, y_new1, test_size=.4, random_state=123)\n",
    "\n",
    "# Train a model on the X data with 2 columns\n",
    "clf_gbt2 = xgb.XGBClassifier().fit(X2col_train,np.ravel(y2_train_new1))\n",
    "\n",
    "# Plot the column importance for this model\n",
    "xgb.plot_importance(clf_gbt2, importance_type = 'weight')\n",
    "plt.show()"
   ]
  },
  {
   "cell_type": "code",
   "execution_count": 55,
   "id": "d6b84881-5a2b-4f2d-a58b-4a3395b654b5",
   "metadata": {},
   "outputs": [
    {
     "data": {
      "image/png": "[encoded data removed]",
      "text/plain": [
       "<Figure size 640x480 with 1 Axes>"
      ]
     },
     "metadata": {},
     "output_type": "display_data"
    }
   ],
   "source": [
    "X3col = cr_loan_prep[['person_income','loan_int_rate','loan_percent_income']]\n",
    "\n",
    "# Use test_train_split to create the training and test sets\n",
    "X3col_train, X3col_test, y3_train_new1, y3_test_new1 = train_test_split(X3col, y_new1, test_size=.4, random_state=123)\n",
    "\n",
    "# Train a model on the X data with 3 columns\n",
    "clf_gbt3 = xgb.XGBClassifier().fit(X3col_train,np.ravel(y3_train_new1))\n",
    "\n",
    "# Plot the column importance for this model\n",
    "xgb.plot_importance(clf_gbt3, importance_type = 'weight')\n",
    "plt.show()"
   ]
  },
  {
   "cell_type": "markdown",
   "id": "823c7751-fe51-4ef3-bc11-67006f340045",
   "metadata": {},
   "source": [
    "On taking closer look - the importance of loan_int_rate went from 1581 to 998. Initially, this was the most important column, but person_income ended up taking the top spot here."
   ]
  },
  {
   "cell_type": "markdown",
   "id": "11be6899-3d62-4c19-9de4-950a471d374e",
   "metadata": {},
   "source": [
    "Column selection and model performance\n",
    "Creating the training set from different combinations of columns affects the model and the importance values of the columns. Does a different selection of columns also affect the F-1 scores, the combination of the precision and recall, of the model? You can answer this question by training two different models on two different sets of columns, and checking the performance.\n",
    "\n",
    "Inaccurately predicting defaults as non-default can result in unexpected losses if the probability of default for these loans was very low. You can use the F-1 score for defaults to see how the models will accurately predict the defaults."
   ]
  },
  {
   "cell_type": "code",
   "execution_count": 56,
   "id": "e9f76873-dfef-4d41-adfb-15af23bc4210",
   "metadata": {},
   "outputs": [
    {
     "data": {
      "image/png": "[encoded data removed]",
      "text/plain": [
       "<Figure size 640x480 with 1 Axes>"
      ]
     },
     "metadata": {},
     "output_type": "display_data"
    },
    {
     "name": "stdout",
     "output_type": "stream",
     "text": [
      "              precision    recall  f1-score   support\n",
      "\n",
      " Non-Default       0.91      0.96      0.93      9194\n",
      "     Default       0.83      0.65      0.73      2592\n",
      "\n",
      "    accuracy                           0.89     11786\n",
      "   macro avg       0.87      0.81      0.83     11786\n",
      "weighted avg       0.89      0.89      0.89     11786\n",
      "\n"
     ]
    }
   ],
   "source": [
    "X4col = cr_loan_prep[['person_income','loan_int_rate','loan_percent_income','loan_amnt', 'person_home_ownership_MORTGAGE' ]]\n",
    "\n",
    "# Use test_train_split to create the training and test sets\n",
    "X4col_train, X4col_test, y4_train_new1, y4_test_new1 = train_test_split(X4col, y_new1, test_size=.4, random_state=123)\n",
    "\n",
    "# Train a model on the X data with columns\n",
    "clf_gbt4 = xgb.XGBClassifier().fit(X4col_train,np.ravel(y4_train_new1))\n",
    "\n",
    "# Predict the loan_status using each model\n",
    "gbt_preds4 = clf_gbt4.predict(X4col_test)\n",
    "\n",
    "# Plot the column importance for this model\n",
    "xgb.plot_importance(clf_gbt4, importance_type = 'weight')\n",
    "plt.show()\n",
    "\n",
    "\n",
    "# Print the classification report of the first model\n",
    "target_names = ['Non-Default', 'Default']\n",
    "print(classification_report(y4_test_new1, gbt_preds4, target_names=target_names))"
   ]
  },
  {
   "cell_type": "code",
   "execution_count": 57,
   "id": "7ed57c82-c2c4-4787-9fca-c3d679bf1343",
   "metadata": {},
   "outputs": [
    {
     "data": {
      "image/png": "[encoded data removed]",
      "text/plain": [
       "<Figure size 640x480 with 1 Axes>"
      ]
     },
     "metadata": {},
     "output_type": "display_data"
    },
    {
     "name": "stdout",
     "output_type": "stream",
     "text": [
      "              precision    recall  f1-score   support\n",
      "\n",
      " Non-Default       0.91      0.98      0.94      9194\n",
      "     Default       0.91      0.65      0.75      2592\n",
      "\n",
      "    accuracy                           0.91     11786\n",
      "   macro avg       0.91      0.81      0.85     11786\n",
      "weighted avg       0.91      0.91      0.90     11786\n",
      "\n"
     ]
    }
   ],
   "source": [
    "X5col = cr_loan_prep[['person_income','loan_int_rate','loan_percent_income','person_emp_length', 'person_home_ownership_RENT' ]]\n",
    "\n",
    "# Use test_train_split to create the training and test sets\n",
    "X5col_train, X5col_test, y5_train_new1, y5_test_new1 = train_test_split(X5col, y_new1, test_size=.4, random_state=123)\n",
    "\n",
    "# Train a model on the X data with columns\n",
    "clf_gbt5 = xgb.XGBClassifier().fit(X5col_train,np.ravel(y5_train_new1))\n",
    "\n",
    "# Predict the loan_status using each model\n",
    "gbt_preds5 = clf_gbt5.predict(X5col_test)\n",
    "\n",
    "# Plot the column importance for this model\n",
    "xgb.plot_importance(clf_gbt5, importance_type = 'weight')\n",
    "plt.show()\n",
    "\n",
    "# Print the classification report of the first model\n",
    "target_names = ['Non-Default', 'Default']\n",
    "print(classification_report(y5_test_new1, gbt_preds5, target_names=target_names))"
   ]
  },
  {
   "cell_type": "markdown",
   "id": "06249726-b689-4d13-a2c2-633eb57f2dd6",
   "metadata": {},
   "source": [
    "it looked like the selection of columns affected model accuracy the most, but now we see that the selection of columns also affects recall by quite a bit."
   ]
  },
  {
   "cell_type": "markdown",
   "id": "e82da987-d464-47a0-acdf-49e92b28496b",
   "metadata": {},
   "source": [
    "1. Cross validation for credit models\n",
    "As we select different hyperparameters and columns for our models, how do we know how they will perform over time? This is where we use cross validation to test our models to see how they might perform after we implement them.\n",
    "\n",
    "2. Cross validation basics\n",
    "But what is cross validation? Simply put, it is a method for training and testing a model multiple times on the same data. We cannot create more loan data to help us develop our model, but we can use cross validation to simulate how our model will perform on new loan data before it comes in. Within XGBoost, to use cross validation you need to create a specialized object called dmatrix, which is just a different way of storing the training data. We also need to use early stopping to keep the models robust. This tells cross validation to stop when the score of the model has not improved after a set number of iterations.\n",
    "\n",
    "3. How cross validation works\n",
    "Here's how cross validation works. What we do is take the entire set of training data and create pieces, called folds, from it. All but one of the folds are used for training, and the remaining fold is used as a kind of miniature test set. Once testing on all folds is completed, the model is tested against the actual test set. We've created 5 folds. Now what happens is the model is trained on 4 of the folds, and tested against the final fold. This process repeats through 5 splits so that each fold is used for testing at least once. Once this is done, the parameters are averaged across each training session and then the model is finally tested against the original test set.\n",
    "\n",
    "1 https://scikit-learn.org/stable/modules/cross_validation.html\n",
    "4. Setting up cross validation within XGBoost\n",
    "Here is how we use cross validation from within xgboost. First, we set the number of folds. Then, we set the number of iterations we will allow before the simulations stop. Next, we create a dictionary of parameters. The binary logistic parameter we created tells xgboost that we want to predict a 0 or 1 for loan status. The performance metric here is the area under the curve. This is the same metric we used on the logistic regression models.\n",
    "\n",
    "5. Using cross validation within XGBoost\n",
    "After creating the dictionary of parameters, we transform our training data into the specialized dmatrix object for xgboost. Last, we call the cv function and pass in the data long with all the parameters dictionary.\n",
    "\n",
    "6. The results of cross validation\n",
    "What the cv function produces is a data frame of training and test AUC scores for our model. Think of this as a scenario analysis where we want to see how our model would perform as new loans come in. Here we see that the auc for the test and train set improves as the model trains on each fold. This suggests that the performance will be stable.\n",
    "\n",
    "7. Cross validation scoring\n",
    "Within scikit-learn there is another helpful function that combines cross validation, and the accuracy scoring metrics we've seen so far. This is the cross val score function. This is used to automatically perform cross validation with data splitting, model training, and scoring all at once! This function comes from the model selection module and is used like this. We first pass in the model, the training data, the training labels, and then the number of folds for cross validation. There are other ways to use this, but when cv is a number, it automatically uses folds. The result is an array of scores for each iteration of training and scoring."
   ]
  },
  {
   "cell_type": "markdown",
   "id": "204716f6-4df4-4aea-a6b4-626f5c1f6dbc",
   "metadata": {},
   "source": [
    "Cross validating credit models\n",
    "Credit loans and their data change over time, and it won't always look like what's been loaded into the current test sets. So, you can use cross-validation to try several smaller training and test sets which are derived from the original X_train and y_train.\n",
    "\n",
    "Use the XGBoost function cv() to perform cross-validation. You will need to set up all the parameters for cv() to use on the test data."
   ]
  },
  {
   "cell_type": "code",
   "execution_count": 58,
   "id": "b661f352-9eae-4b85-b4f2-438f28c2d6e7",
   "metadata": {},
   "outputs": [],
   "source": [
    "params ={'objective': 'binary:logistic', 'seed': 123, 'eval_metric': 'auc'}"
   ]
  },
  {
   "cell_type": "code",
   "execution_count": 59,
   "id": "d48f4765-26f2-4ce1-861a-2b0d8d1b7e47",
   "metadata": {},
   "outputs": [
    {
     "name": "stdout",
     "output_type": "stream",
     "text": [
      "     train-auc-mean  train-auc-std  test-auc-mean  test-auc-std\n",
      "0          0.896007       0.002084       0.891142      0.013071\n",
      "1          0.903197       0.001911       0.897610      0.011157\n",
      "2          0.911369       0.001791       0.904430      0.011304\n",
      "3          0.915447       0.001476       0.907551      0.010186\n",
      "4          0.920176       0.001249       0.911863      0.009559\n",
      "..              ...            ...            ...           ...\n",
      "595        1.000000       0.000000       0.943436      0.005216\n",
      "596        1.000000       0.000000       0.943436      0.005166\n",
      "597        1.000000       0.000000       0.943468      0.005160\n",
      "598        1.000000       0.000000       0.943479      0.005143\n",
      "599        1.000000       0.000000       0.943455      0.005183\n",
      "\n",
      "[600 rows x 4 columns]\n"
     ]
    }
   ],
   "source": [
    "# Set the values for number of folds and stopping iterations\n",
    "n_folds = 10\n",
    "early_stopping = 100\n",
    "\n",
    "# Create the DTrain matrix for XGBoost\n",
    "DTrain = xgb.DMatrix(X_train_new, label = y_train_new)\n",
    "\n",
    "# Create the data frame of cross validations\n",
    "cv_df = xgb.cv(params, DTrain, num_boost_round = 600, nfold=n_folds, shuffle = True)\n",
    "\n",
    "# Print the cross validations data frame\n",
    "print(cv_df)"
   ]
  },
  {
   "cell_type": "markdown",
   "id": "1a084bc4-04a3-4d19-be12-d4c292f1cc0c",
   "metadata": {},
   "source": [
    "see how the AUC for both train-auc-mean and test-auc-mean improves at each iteration of cross-validation. It appreas that as the iterations progress the scores get better, but will they eventually reach 1.0"
   ]
  },
  {
   "cell_type": "code",
   "execution_count": 60,
   "id": "63f846a7-68bd-459a-8f7c-a1904e042121",
   "metadata": {},
   "outputs": [
    {
     "name": "stdout",
     "output_type": "stream",
     "text": [
      "   train-auc-mean  train-auc-std  test-auc-mean  test-auc-std\n",
      "0        0.896007       0.002084       0.891142      0.013071\n",
      "1        0.903197       0.001911       0.897610      0.011157\n",
      "2        0.911369       0.001791       0.904430      0.011304\n",
      "3        0.915447       0.001476       0.907551      0.010186\n",
      "4        0.920176       0.001249       0.911863      0.009559\n",
      "0.94\n"
     ]
    },
    {
     "data": {
      "image/png": "[encoded data removed]",
      "text/plain": [
       "<Figure size 640x480 with 1 Axes>"
      ]
     },
     "metadata": {},
     "output_type": "display_data"
    }
   ],
   "source": [
    "# Print the first five rows of the CV results data frame\n",
    "print(cv_df.head())\n",
    "\n",
    "# Calculate the mean of the test AUC scores\n",
    "print(np.mean(cv_df['test-auc-mean']).round(2))\n",
    "\n",
    "# Plot the test AUC scores for each iteration\n",
    "plt.plot(cv_df['test-auc-mean'])\n",
    "plt.title('Test AUC Score Over 600 Iterations')\n",
    "plt.xlabel('Iteration Number')\n",
    "plt.ylabel('Test AUC Score')\n",
    "plt.show()"
   ]
  },
  {
   "cell_type": "markdown",
   "id": "82811f29-e930-479b-8cbd-1df502799ec0",
   "metadata": {},
   "source": [
    "Notice that the test AUC score never quite reaches 1.0 and begins to decrease slightly after 100 iterations. This is because this much cross-validation can actually cause the model to become overfit. So, there is a limit to how much cross-validation one should to"
   ]
  },
  {
   "cell_type": "markdown",
   "id": "a0540174-a33b-4a5d-ae63-72922b437698",
   "metadata": {},
   "source": [
    "Cross-validation scoring\n",
    "Now, you should use cross-validation scoring with cross_val_score() to check the overall performance.\n",
    "\n",
    "This is exercise presents an excellent opportunity to test out the use of the hyperparameters learning_rate and max_depth. Remember, hyperparameters are like settings which can help create optimum performance."
   ]
  },
  {
   "cell_type": "code",
   "execution_count": 61,
   "id": "239305ad-d97d-421e-91b6-7ec5e7d639c8",
   "metadata": {},
   "outputs": [
    {
     "name": "stdout",
     "output_type": "stream",
     "text": [
      "[0.93574661 0.92986425 0.93506787 0.92984838]\n",
      "Average accuracy: 0.93 (+/- 0.01)\n"
     ]
    }
   ],
   "source": [
    "# Create a gradient boosted tree model using two hyperparameters\n",
    "gbt = xgb.XGBClassifier(learning_rate = 0.1, max_depth = 7)\n",
    "\n",
    "# Calculate the cross validation scores for 4 folds\n",
    "cv_scores = cross_val_score(gbt, X_train_new, np.ravel(y_train_new), cv = 4)\n",
    "\n",
    "# Print the cross validation scores\n",
    "print(cv_scores)\n",
    "\n",
    "# Print the average accuracy and standard deviation of the scores\n",
    "print(\"Average accuracy: %0.2f (+/- %0.2f)\" % (cv_scores.mean(), cv_scores.std() * 2))"
   ]
  },
  {
   "cell_type": "markdown",
   "id": "3f85311f-bb04-4ea3-abe8-c159e5a27b27",
   "metadata": {},
   "source": [
    "With only a couple of hyperparameters and cross-validation, we can get the average accuracy up to 93%. This is a great way to validate how robust the model is."
   ]
  },
  {
   "cell_type": "markdown",
   "id": "c892c0e5-37c7-4e60-9d7e-b0a496ecc9e3",
   "metadata": {},
   "source": [
    "1. Class imbalance in loan data\n",
    "We just used cross-validation to check the robustness of our model. Let's talk more about how the data impacts the robustness of the model.\n",
    "\n",
    "2. Not enough defaults in the data\n",
    "In our credit data, the values for loan status are our classes. By looking at the value counts, we see that the number of defaults and non-defaults is not equal. In the training data, the defaults account for 22%. So, there are far more non-defaults than defaults. This is class imbalance, which is a problem.\n",
    "\n",
    "3. Model loss function\n",
    "Our tree models use a loss function called log-loss. Our model will want to predict both classes accurately as this leads to an overall better score. Here, we have one default and one non-default. Each has a predicted probability far away from the actual loan status. With the log-loss function, both result in the same value. So, for our model each is equally bad. The problem is, for loans, a default predicted to be a non-default is much more costly.\n",
    "\n",
    "4. The cost of imbalance\n",
    "Let's say we have two loans for a thousand dollars each. One is a non-default predicted as default, and the other is a default predicted as non-default. Here, each has a potential profit of 10 dollars. If we deny a loan because we think it's a default when it isn't, we miss out on 10 dollars. If we accept a loan because we think it's a non-default when it is a default, we could lose a thousand dollars. For the model, each of these is equally bad. For our portfolio, that is definitely not the case.\n",
    "\n",
    "5. Causes of imbalance\n",
    "What causes class imbalance can be several different things. One is there might be some issues with the data itself. Maybe the training data was not sampled correctly. For us, the imbalance is perfectly normal. People have incentives to not default on loans. One example is the less often they default, their credit rating goes up and they are able to purchase more things.\n",
    "\n",
    "6. Dealing with class imbalance\n",
    "So, how can we deal with class imbalance? One way is to gather more data. However, if it remains normal for people to not default on loans, it's unlikely that the percentage of defaults will change. Another way is to penalize the classification differently. This would have models weight inaccurately predicted defaults more. However, this can require frequent model parameter tuning and maintenance for the life of the model. We will use the simplest method, which is to sample the training data differently.\n",
    "\n",
    "7. Undersampling strategy\n",
    "The type of sampling we are going to perform is called undersampling. What we will do is take a random sample of non-defaults and combine it with our defaults. Imagine we have 100 loans where 80% are non-defaults. We will randomly sample only 20 of our non-defaults, and combine that with our set of 20 defaults. With this, we have a balanced training set of 20 defaults and 20 non-defaults.\n",
    "\n",
    "8. Combining the split data sets\n",
    "So here is the way we undersample our training data. First we concatenate our X and y training sets because we separated them for our model, but now we need to change the training data as a whole. Then we store the counts for defaults and non-defaults. After that, we create two new data sets. One with only defaults and one with only non-defaults.\n",
    "\n",
    "9. Undersampling the non-defaults\n",
    "With that done, we randomly sample our non-defaults to be the same number of loans as our defaults. Then, we concatenate the two data sets together, and we have a balanced training set!"
   ]
  },
  {
   "cell_type": "markdown",
   "id": "82b7b3da-4b11-454b-9fe0-b0089902620e",
   "metadata": {},
   "source": [
    "Undersampling training data\n",
    "It's time to undersample the training set yourself with a few lines of code from Pandas. Once the undersampling is complete, you can check the value counts for loan_status to verify the results.\n"
   ]
  },
  {
   "cell_type": "code",
   "execution_count": 62,
   "id": "1a544fd0-73b8-4054-8883-e49a878d715b",
   "metadata": {},
   "outputs": [],
   "source": [
    "# X_y_train, count_nondefault, and count_default\n",
    "\n",
    "X_y_train = pd.concat([X_train_new.reset_index(drop = True),\n",
    "                       y_train_new.reset_index(drop = True)], axis = 1)\n",
    "count_nondefault, count_default = X_y_train['loan_status'].value_counts()"
   ]
  },
  {
   "cell_type": "code",
   "execution_count": 63,
   "id": "3bcfc8eb-e1cb-4966-89c6-145024599a56",
   "metadata": {},
   "outputs": [
    {
     "name": "stdout",
     "output_type": "stream",
     "text": [
      "0    3872\n",
      "1    3872\n",
      "Name: loan_status, dtype: int64\n"
     ]
    }
   ],
   "source": [
    "# Create data sets for defaults and non-defaults\n",
    "nondefaults = X_y_train[X_y_train['loan_status'] == 0]\n",
    "defaults = X_y_train[X_y_train['loan_status'] == 1]\n",
    "\n",
    "# Undersample the non-defaults\n",
    "nondefaults_under = nondefaults.sample(count_default)\n",
    "\n",
    "# Concatenate the undersampled nondefaults with defaults\n",
    "X_y_train_under = pd.concat([nondefaults_under.reset_index(drop = True),\n",
    "                             defaults.reset_index(drop = True)], axis = 0)\n",
    "\n",
    "# Print the value counts for loan status\n",
    "print(X_y_train_under['loan_status'].value_counts())"
   ]
  },
  {
   "cell_type": "code",
   "execution_count": 64,
   "id": "829fc7ff-f614-4e29-a3d4-d3e03ee118ae",
   "metadata": {},
   "outputs": [
    {
     "data": {
      "text/html": [
       "<div>\n",
       "<style scoped>\n",
       "    .dataframe tbody tr th:only-of-type {\n",
       "        vertical-align: middle;\n",
       "    }\n",
       "\n",
       "    .dataframe tbody tr th {\n",
       "        vertical-align: top;\n",
       "    }\n",
       "\n",
       "    .dataframe thead th {\n",
       "        text-align: right;\n",
       "    }\n",
       "</style>\n",
       "<table border=\"1\" class=\"dataframe\">\n",
       "  <thead>\n",
       "    <tr style=\"text-align: right;\">\n",
       "      <th></th>\n",
       "      <th>person_age</th>\n",
       "      <th>person_income</th>\n",
       "      <th>person_emp_length</th>\n",
       "      <th>loan_amnt</th>\n",
       "      <th>loan_int_rate</th>\n",
       "      <th>loan_percent_income</th>\n",
       "      <th>cb_person_cred_hist_length</th>\n",
       "      <th>person_home_ownership_MORTGAGE</th>\n",
       "      <th>person_home_ownership_OTHER</th>\n",
       "      <th>person_home_ownership_OWN</th>\n",
       "      <th>...</th>\n",
       "      <th>loan_grade_A</th>\n",
       "      <th>loan_grade_B</th>\n",
       "      <th>loan_grade_C</th>\n",
       "      <th>loan_grade_D</th>\n",
       "      <th>loan_grade_E</th>\n",
       "      <th>loan_grade_F</th>\n",
       "      <th>loan_grade_G</th>\n",
       "      <th>cb_person_default_on_file_N</th>\n",
       "      <th>cb_person_default_on_file_Y</th>\n",
       "      <th>loan_status</th>\n",
       "    </tr>\n",
       "  </thead>\n",
       "  <tbody>\n",
       "    <tr>\n",
       "      <th>0</th>\n",
       "      <td>21</td>\n",
       "      <td>53000</td>\n",
       "      <td>5.0</td>\n",
       "      <td>18000</td>\n",
       "      <td>13.80</td>\n",
       "      <td>0.34</td>\n",
       "      <td>3</td>\n",
       "      <td>1</td>\n",
       "      <td>0</td>\n",
       "      <td>0</td>\n",
       "      <td>...</td>\n",
       "      <td>0</td>\n",
       "      <td>0</td>\n",
       "      <td>1</td>\n",
       "      <td>0</td>\n",
       "      <td>0</td>\n",
       "      <td>0</td>\n",
       "      <td>0</td>\n",
       "      <td>0</td>\n",
       "      <td>1</td>\n",
       "      <td>0</td>\n",
       "    </tr>\n",
       "    <tr>\n",
       "      <th>1</th>\n",
       "      <td>24</td>\n",
       "      <td>60000</td>\n",
       "      <td>4.0</td>\n",
       "      <td>12000</td>\n",
       "      <td>7.90</td>\n",
       "      <td>0.20</td>\n",
       "      <td>3</td>\n",
       "      <td>1</td>\n",
       "      <td>0</td>\n",
       "      <td>0</td>\n",
       "      <td>...</td>\n",
       "      <td>1</td>\n",
       "      <td>0</td>\n",
       "      <td>0</td>\n",
       "      <td>0</td>\n",
       "      <td>0</td>\n",
       "      <td>0</td>\n",
       "      <td>0</td>\n",
       "      <td>1</td>\n",
       "      <td>0</td>\n",
       "      <td>0</td>\n",
       "    </tr>\n",
       "    <tr>\n",
       "      <th>2</th>\n",
       "      <td>25</td>\n",
       "      <td>100000</td>\n",
       "      <td>9.0</td>\n",
       "      <td>17600</td>\n",
       "      <td>10.59</td>\n",
       "      <td>0.18</td>\n",
       "      <td>3</td>\n",
       "      <td>1</td>\n",
       "      <td>0</td>\n",
       "      <td>0</td>\n",
       "      <td>...</td>\n",
       "      <td>0</td>\n",
       "      <td>1</td>\n",
       "      <td>0</td>\n",
       "      <td>0</td>\n",
       "      <td>0</td>\n",
       "      <td>0</td>\n",
       "      <td>0</td>\n",
       "      <td>1</td>\n",
       "      <td>0</td>\n",
       "      <td>0</td>\n",
       "    </tr>\n",
       "    <tr>\n",
       "      <th>3</th>\n",
       "      <td>26</td>\n",
       "      <td>84996</td>\n",
       "      <td>4.0</td>\n",
       "      <td>3600</td>\n",
       "      <td>11.99</td>\n",
       "      <td>0.04</td>\n",
       "      <td>2</td>\n",
       "      <td>0</td>\n",
       "      <td>0</td>\n",
       "      <td>0</td>\n",
       "      <td>...</td>\n",
       "      <td>0</td>\n",
       "      <td>1</td>\n",
       "      <td>0</td>\n",
       "      <td>0</td>\n",
       "      <td>0</td>\n",
       "      <td>0</td>\n",
       "      <td>0</td>\n",
       "      <td>1</td>\n",
       "      <td>0</td>\n",
       "      <td>0</td>\n",
       "    </tr>\n",
       "    <tr>\n",
       "      <th>4</th>\n",
       "      <td>33</td>\n",
       "      <td>144000</td>\n",
       "      <td>1.0</td>\n",
       "      <td>5000</td>\n",
       "      <td>8.90</td>\n",
       "      <td>0.03</td>\n",
       "      <td>10</td>\n",
       "      <td>1</td>\n",
       "      <td>0</td>\n",
       "      <td>0</td>\n",
       "      <td>...</td>\n",
       "      <td>1</td>\n",
       "      <td>0</td>\n",
       "      <td>0</td>\n",
       "      <td>0</td>\n",
       "      <td>0</td>\n",
       "      <td>0</td>\n",
       "      <td>0</td>\n",
       "      <td>1</td>\n",
       "      <td>0</td>\n",
       "      <td>0</td>\n",
       "    </tr>\n",
       "    <tr>\n",
       "      <th>...</th>\n",
       "      <td>...</td>\n",
       "      <td>...</td>\n",
       "      <td>...</td>\n",
       "      <td>...</td>\n",
       "      <td>...</td>\n",
       "      <td>...</td>\n",
       "      <td>...</td>\n",
       "      <td>...</td>\n",
       "      <td>...</td>\n",
       "      <td>...</td>\n",
       "      <td>...</td>\n",
       "      <td>...</td>\n",
       "      <td>...</td>\n",
       "      <td>...</td>\n",
       "      <td>...</td>\n",
       "      <td>...</td>\n",
       "      <td>...</td>\n",
       "      <td>...</td>\n",
       "      <td>...</td>\n",
       "      <td>...</td>\n",
       "      <td>...</td>\n",
       "    </tr>\n",
       "    <tr>\n",
       "      <th>3867</th>\n",
       "      <td>25</td>\n",
       "      <td>12816</td>\n",
       "      <td>0.0</td>\n",
       "      <td>3000</td>\n",
       "      <td>12.87</td>\n",
       "      <td>0.23</td>\n",
       "      <td>4</td>\n",
       "      <td>0</td>\n",
       "      <td>0</td>\n",
       "      <td>1</td>\n",
       "      <td>...</td>\n",
       "      <td>0</td>\n",
       "      <td>0</td>\n",
       "      <td>1</td>\n",
       "      <td>0</td>\n",
       "      <td>0</td>\n",
       "      <td>0</td>\n",
       "      <td>0</td>\n",
       "      <td>0</td>\n",
       "      <td>1</td>\n",
       "      <td>1</td>\n",
       "    </tr>\n",
       "    <tr>\n",
       "      <th>3868</th>\n",
       "      <td>23</td>\n",
       "      <td>24000</td>\n",
       "      <td>4.0</td>\n",
       "      <td>12250</td>\n",
       "      <td>13.16</td>\n",
       "      <td>0.51</td>\n",
       "      <td>3</td>\n",
       "      <td>0</td>\n",
       "      <td>0</td>\n",
       "      <td>0</td>\n",
       "      <td>...</td>\n",
       "      <td>0</td>\n",
       "      <td>0</td>\n",
       "      <td>1</td>\n",
       "      <td>0</td>\n",
       "      <td>0</td>\n",
       "      <td>0</td>\n",
       "      <td>0</td>\n",
       "      <td>1</td>\n",
       "      <td>0</td>\n",
       "      <td>1</td>\n",
       "    </tr>\n",
       "    <tr>\n",
       "      <th>3869</th>\n",
       "      <td>27</td>\n",
       "      <td>60000</td>\n",
       "      <td>12.0</td>\n",
       "      <td>2000</td>\n",
       "      <td>15.70</td>\n",
       "      <td>0.03</td>\n",
       "      <td>6</td>\n",
       "      <td>1</td>\n",
       "      <td>0</td>\n",
       "      <td>0</td>\n",
       "      <td>...</td>\n",
       "      <td>0</td>\n",
       "      <td>0</td>\n",
       "      <td>0</td>\n",
       "      <td>1</td>\n",
       "      <td>0</td>\n",
       "      <td>0</td>\n",
       "      <td>0</td>\n",
       "      <td>0</td>\n",
       "      <td>1</td>\n",
       "      <td>1</td>\n",
       "    </tr>\n",
       "    <tr>\n",
       "      <th>3870</th>\n",
       "      <td>41</td>\n",
       "      <td>43439</td>\n",
       "      <td>4.0</td>\n",
       "      <td>15000</td>\n",
       "      <td>12.73</td>\n",
       "      <td>0.35</td>\n",
       "      <td>15</td>\n",
       "      <td>0</td>\n",
       "      <td>0</td>\n",
       "      <td>0</td>\n",
       "      <td>...</td>\n",
       "      <td>0</td>\n",
       "      <td>0</td>\n",
       "      <td>1</td>\n",
       "      <td>0</td>\n",
       "      <td>0</td>\n",
       "      <td>0</td>\n",
       "      <td>0</td>\n",
       "      <td>1</td>\n",
       "      <td>0</td>\n",
       "      <td>1</td>\n",
       "    </tr>\n",
       "    <tr>\n",
       "      <th>3871</th>\n",
       "      <td>41</td>\n",
       "      <td>42600</td>\n",
       "      <td>0.0</td>\n",
       "      <td>10000</td>\n",
       "      <td>15.62</td>\n",
       "      <td>0.23</td>\n",
       "      <td>12</td>\n",
       "      <td>0</td>\n",
       "      <td>0</td>\n",
       "      <td>0</td>\n",
       "      <td>...</td>\n",
       "      <td>0</td>\n",
       "      <td>0</td>\n",
       "      <td>0</td>\n",
       "      <td>1</td>\n",
       "      <td>0</td>\n",
       "      <td>0</td>\n",
       "      <td>0</td>\n",
       "      <td>0</td>\n",
       "      <td>1</td>\n",
       "      <td>1</td>\n",
       "    </tr>\n",
       "  </tbody>\n",
       "</table>\n",
       "<p>7744 rows × 27 columns</p>\n",
       "</div>"
      ],
      "text/plain": [
       "      person_age  person_income  person_emp_length  loan_amnt  loan_int_rate  \\\n",
       "0             21          53000                5.0      18000          13.80   \n",
       "1             24          60000                4.0      12000           7.90   \n",
       "2             25         100000                9.0      17600          10.59   \n",
       "3             26          84996                4.0       3600          11.99   \n",
       "4             33         144000                1.0       5000           8.90   \n",
       "...          ...            ...                ...        ...            ...   \n",
       "3867          25          12816                0.0       3000          12.87   \n",
       "3868          23          24000                4.0      12250          13.16   \n",
       "3869          27          60000               12.0       2000          15.70   \n",
       "3870          41          43439                4.0      15000          12.73   \n",
       "3871          41          42600                0.0      10000          15.62   \n",
       "\n",
       "      loan_percent_income  cb_person_cred_hist_length  \\\n",
       "0                    0.34                           3   \n",
       "1                    0.20                           3   \n",
       "2                    0.18                           3   \n",
       "3                    0.04                           2   \n",
       "4                    0.03                          10   \n",
       "...                   ...                         ...   \n",
       "3867                 0.23                           4   \n",
       "3868                 0.51                           3   \n",
       "3869                 0.03                           6   \n",
       "3870                 0.35                          15   \n",
       "3871                 0.23                          12   \n",
       "\n",
       "      person_home_ownership_MORTGAGE  person_home_ownership_OTHER  \\\n",
       "0                                  1                            0   \n",
       "1                                  1                            0   \n",
       "2                                  1                            0   \n",
       "3                                  0                            0   \n",
       "4                                  1                            0   \n",
       "...                              ...                          ...   \n",
       "3867                               0                            0   \n",
       "3868                               0                            0   \n",
       "3869                               1                            0   \n",
       "3870                               0                            0   \n",
       "3871                               0                            0   \n",
       "\n",
       "      person_home_ownership_OWN  ...  loan_grade_A  loan_grade_B  \\\n",
       "0                             0  ...             0             0   \n",
       "1                             0  ...             1             0   \n",
       "2                             0  ...             0             1   \n",
       "3                             0  ...             0             1   \n",
       "4                             0  ...             1             0   \n",
       "...                         ...  ...           ...           ...   \n",
       "3867                          1  ...             0             0   \n",
       "3868                          0  ...             0             0   \n",
       "3869                          0  ...             0             0   \n",
       "3870                          0  ...             0             0   \n",
       "3871                          0  ...             0             0   \n",
       "\n",
       "      loan_grade_C  loan_grade_D  loan_grade_E  loan_grade_F  loan_grade_G  \\\n",
       "0                1             0             0             0             0   \n",
       "1                0             0             0             0             0   \n",
       "2                0             0             0             0             0   \n",
       "3                0             0             0             0             0   \n",
       "4                0             0             0             0             0   \n",
       "...            ...           ...           ...           ...           ...   \n",
       "3867             1             0             0             0             0   \n",
       "3868             1             0             0             0             0   \n",
       "3869             0             1             0             0             0   \n",
       "3870             1             0             0             0             0   \n",
       "3871             0             1             0             0             0   \n",
       "\n",
       "      cb_person_default_on_file_N  cb_person_default_on_file_Y  loan_status  \n",
       "0                               0                            1            0  \n",
       "1                               1                            0            0  \n",
       "2                               1                            0            0  \n",
       "3                               1                            0            0  \n",
       "4                               1                            0            0  \n",
       "...                           ...                          ...          ...  \n",
       "3867                            0                            1            1  \n",
       "3868                            1                            0            1  \n",
       "3869                            0                            1            1  \n",
       "3870                            1                            0            1  \n",
       "3871                            0                            1            1  \n",
       "\n",
       "[7744 rows x 27 columns]"
      ]
     },
     "execution_count": 64,
     "metadata": {},
     "output_type": "execute_result"
    }
   ],
   "source": [
    "X_y_train_under"
   ]
  },
  {
   "cell_type": "markdown",
   "id": "805ea291-c32b-45f6-af23-44f113f39ee7",
   "metadata": {},
   "source": [
    "Training set has an even number of defaults and non-defaults. Let's test out some machine learning models on this new undersampled data set and compare their performance to the models trained on the regular data set."
   ]
  },
  {
   "cell_type": "markdown",
   "id": "d3d2fc5d-4667-4236-8864-43bd39d7c93a",
   "metadata": {},
   "source": [
    "Undersampled tree performance\n",
    "You've undersampled the training set and trained a model on the undersampled set.\n",
    "\n",
    "The performance of the model's predictions not only impact the probability of default on the test set, but also on the scoring of new loan applications as they come in. You also now know that it is even more important that the recall of defaults be high, because a default predicted as non-default is more costly.\n",
    "\n",
    "The next crucial step is to compare the new model's performance to the original model. The original predictions are stored as gbt_preds and the new model's predictions stored as gbt2_preds.\n",
    "The test set represents the type of data that will be seen by the model in the real world, so changing it would test the model on unrealistic data."
   ]
  },
  {
   "cell_type": "code",
   "execution_count": 65,
   "id": "af5656ae-1263-4568-8b03-0d42fa708d07",
   "metadata": {},
   "outputs": [],
   "source": [
    "# Create the X and y data sets\n",
    "X_UnderSample = X_y_train_under[['person_age', 'person_income', 'person_emp_length', 'loan_amnt', 'loan_int_rate', 'loan_percent_income', 'cb_person_cred_hist_length', 'person_home_ownership_MORTGAGE',\n",
    "       'person_home_ownership_OTHER', 'person_home_ownership_OWN', 'person_home_ownership_RENT', 'loan_intent_DEBTCONSOLIDATION', 'loan_intent_EDUCATION', 'loan_intent_HOMEIMPROVEMENT',\n",
    "       'loan_intent_MEDICAL', 'loan_intent_PERSONAL', 'loan_intent_VENTURE', 'loan_grade_A', 'loan_grade_B', 'loan_grade_C', 'loan_grade_D', 'loan_grade_E', 'loan_grade_F', 'loan_grade_G',\n",
    "       'cb_person_default_on_file_N', 'cb_person_default_on_file_Y']]\n",
    "y_UnderSample = X_y_train_under[['loan_status']]\n",
    "\n",
    "# Use test_train_split to create the training and test sets\n",
    "X_train_UnderSample, X_test_UnderSample, y_train_UnderSample, y_test_UnderSample = train_test_split(X_UnderSample, y_UnderSample, test_size=.4, random_state=123)"
   ]
  },
  {
   "cell_type": "code",
   "execution_count": 66,
   "id": "b5decca9-5806-4cb6-ba3b-e165fdb6c4f4",
   "metadata": {},
   "outputs": [],
   "source": [
    "# Train a model\n",
    "clf_gbt_UnderSample = xgb.XGBClassifier().fit(X_train_UnderSample, np.ravel(y_train_UnderSample))\n",
    "\n",
    "# Predict the labels for loan status\n",
    "gbt_preds_UnderSample = clf_gbt_UnderSample.predict(X_test_UnderSample)"
   ]
  },
  {
   "cell_type": "code",
   "execution_count": 67,
   "id": "034fef58-1ea9-42f2-bb7b-541dc8c8848f",
   "metadata": {},
   "outputs": [
    {
     "name": "stdout",
     "output_type": "stream",
     "text": [
      "              precision    recall  f1-score   support\n",
      "\n",
      " Non-Default       0.93      0.99      0.96      9194\n",
      "     Default       0.96      0.74      0.84      2592\n",
      "\n",
      "    accuracy                           0.94     11786\n",
      "   macro avg       0.94      0.87      0.90     11786\n",
      "weighted avg       0.94      0.94      0.93     11786\n",
      "\n",
      "              precision    recall  f1-score   support\n",
      "\n",
      " Non-Default       0.83      0.88      0.85      1563\n",
      "     Default       0.87      0.81      0.84      1535\n",
      "\n",
      "    accuracy                           0.85      3098\n",
      "   macro avg       0.85      0.85      0.85      3098\n",
      "weighted avg       0.85      0.85      0.85      3098\n",
      "\n"
     ]
    }
   ],
   "source": [
    "# Check the classification reports\n",
    "target_names = ['Non-Default', 'Default']\n",
    "print(classification_report(y_test_new, gbt_preds, target_names=target_names))\n",
    "print(classification_report(y_test_UnderSample, gbt_preds_UnderSample, target_names=target_names))"
   ]
  },
  {
   "cell_type": "code",
   "execution_count": 68,
   "id": "cf801bf5-e537-4b9d-a4b7-d884b8180409",
   "metadata": {},
   "outputs": [
    {
     "name": "stdout",
     "output_type": "stream",
     "text": [
      "[[9106   88]\n",
      " [ 669 1923]]\n",
      "[[1374  189]\n",
      " [ 286 1249]]\n"
     ]
    }
   ],
   "source": [
    "# Print the confusion matrix for both old and new models\n",
    "print(confusion_matrix(y_test_new,gbt_preds))\n",
    "print(confusion_matrix(y_test_UnderSample,gbt_preds_UnderSample))"
   ]
  },
  {
   "cell_type": "code",
   "execution_count": 69,
   "id": "7ca532ff-5c5d-4679-a0f0-043b93f6e7c1",
   "metadata": {},
   "outputs": [
    {
     "name": "stdout",
     "output_type": "stream",
     "text": [
      "0.866163344250276\n",
      "0.846379738288308\n"
     ]
    }
   ],
   "source": [
    "# Print and compare the AUC scores of the old and new models\n",
    "print(roc_auc_score(y_test_new, gbt_preds))\n",
    "print(roc_auc_score(y_test_UnderSample, gbt_preds_UnderSample))"
   ]
  },
  {
   "cell_type": "markdown",
   "id": "4df9c16e-b9cb-469d-bc11-8c0a9ef7b744",
   "metadata": {},
   "source": [
    "Looks like this is classified as a success! This means overall it predicts defaults much more accurately"
   ]
  },
  {
   "cell_type": "markdown",
   "id": "0d997c8b-7091-4b49-aa67-5c0ab80acd5a",
   "metadata": {},
   "source": [
    "1. Model evaluation and implementation\n",
    "We've fully developed two models to predict the probability of default, and we need to use many different metrics to compare them to ensure we select the best one.\n",
    "\n",
    "2. Comparing classification reports\n",
    "First, we will use classification reports. For comparison, we will look at two side-by-side and focus on one metric, the macro average F-1 score. The calculation behind the F1 score combines precision and recall to create a single metric and is shown here. The unweighted average of the F1 scores for default and non-default is the macro average F1 score. With this, we can use a single number to get a good understanding of each models' performance across defaults and non-defaults.\n",
    "\n",
    "3. ROC and AUC analysis\n",
    "We will also use ROC charts and AUC scores. The ROC chart will have a line for each model which allows us to compare the lift for both. The greater the lift means that the AUC score is higher and the model has better performance overall for defaults and non-defaults. In this example, we see two models compared to the random prediction going through the middle. Here, the gradient boosted tree model has more lift, and will have a higher AUC score.\n",
    "\n",
    "4. Model calibration\n",
    "Another method we will use to compare models is to check how well calibrated their predicted probabilities are. What this means is we want to be able to interpret these probabilities as a confidence level for default. A model is well-calibrated when a sample of loans has an average predicted probability of default close to that sample's percentage of actual defaults. For example, if we take 10 loans and their average predicted probability of default is 0.12, we expect 12% of the sample to be defaults. If our model has an average predicted probability of default of 0.25 and that sample is 65% defaults, then we have several loans that we predicted to be non-default that are actually defaults which we are very costly.\n",
    "\n",
    "1 http://datascienceassn.org/sites/default/files/Predicting%20good%20probabilities%20with%20supervised%20learning.pdf\n",
    "5. Calculating calibration\n",
    "To calculate these values we use the calibration curve function. It is imported from the sci-kit learn package like this, and is used on the test set and the predicted probabilities of default. The n-bins parameter sets the number of samples to take. So, with this example, our test data is split into 5 samples and the function will calculate the average predicted probability of default and percentage of true defaults for each sample.\n",
    "\n",
    "6. Plotting calibration curves\n",
    "With the outputs from the calibration curve function, we make a calibration curve plot by calling the plot function from matplotlib. The result plots all our average predicted probabilities against all our percentage of actual defaults for each sample. Here, I used 20 samples.\n",
    "\n",
    "7. Checking calibration curves\n",
    "To interpret this plot, let's look at two different events. One where the model is above the perfectly calibrated line, and one where it's below.\n",
    "\n",
    "8. Calibration curve interpretation\n",
    "In this event, we see that our average predicted probability of default was 0.56, but this sample contained 75% defaults. Here is where we find the majority of our false negatives, which are quite costly. Our model is having a difficult time accurately predicting the probability of default for the loans in this sample.\n",
    "\n",
    "9. Calibration curve interpretation\n",
    "In the second event, the model's average predicted probability for the sample is 0.94 but the sample is only 66% defaults. Here we will find most of our false positives. These are missed opportunities for profit, but are not as damaging as the false negatives."
   ]
  },
  {
   "cell_type": "markdown",
   "id": "8fe9456c-9291-441e-b439-beb370d350ab",
   "metadata": {},
   "source": [
    "Comparing model reports\n",
    "You've used logistic regression models and gradient boosted trees. It's time to compare these two to see which model will be used to make the final predictions.\n",
    "\n",
    "One of the easiest first steps for comparing different models' ability to predict the probability of default is to look at their metrics from the classification_report(). With this, you can see many different scoring metrics side-by-side for each model. Because the data and models are normally unbalanced with few defaults, focus on the metrics for defaults for now."
   ]
  },
  {
   "cell_type": "code",
   "execution_count": 70,
   "id": "0c7e1e8a-1705-485b-b52d-4bae12918b58",
   "metadata": {},
   "outputs": [
    {
     "name": "stdout",
     "output_type": "stream",
     "text": [
      "              precision    recall  f1-score   support\n",
      "\n",
      " Non-Default       0.86      0.92      0.89      9194\n",
      "     Default       0.62      0.45      0.52      2592\n",
      "\n",
      "    accuracy                           0.82     11786\n",
      "   macro avg       0.74      0.69      0.71     11786\n",
      "weighted avg       0.80      0.82      0.81     11786\n",
      "\n",
      "              precision    recall  f1-score   support\n",
      "\n",
      " Non-Default       0.94      0.98      0.96      9194\n",
      "     Default       0.92      0.76      0.83      2592\n",
      "\n",
      "    accuracy                           0.93     11786\n",
      "   macro avg       0.93      0.87      0.90     11786\n",
      "weighted avg       0.93      0.93      0.93     11786\n",
      "\n",
      "0.7051224860306248\n",
      "0.8963682684237266\n"
     ]
    }
   ],
   "source": [
    "# Print the logistic regression classification report\n",
    "target_names = ['Non-Default', 'Default']\n",
    "print(classification_report(y_test_new, preds_df_lr_later['loan_status'], target_names=target_names))\n",
    "\n",
    "# Print the gradient boosted tree classification report\n",
    "print(classification_report(y_test_new, preds_df_gbt_later['loan_status'], target_names=target_names))\n",
    "\n",
    "# Print the default F-1 scores for the logistic regression\n",
    "print(precision_recall_fscore_support(y_test_new,preds_df_lr_later['loan_status'], average = 'macro')[2])\n",
    "\n",
    "# Print the default F-1 scores for the gradient boosted tree\n",
    "print(precision_recall_fscore_support(y_test_new,preds_df_gbt_later['loan_status'], average = 'macro')[2])"
   ]
  },
  {
   "cell_type": "markdown",
   "id": "418f9fcd-6d92-4fc2-aba8-f575e63bc580",
   "metadata": {},
   "source": [
    "There is a noticeable difference between these two models. One can see that the scores from the classification_report() are all higher for the gradient boosted tree. This means the tree model is better in all of these aspects. "
   ]
  },
  {
   "cell_type": "markdown",
   "id": "5b42efa0-1d52-407e-82c7-87b7b6af49c7",
   "metadata": {},
   "source": [
    "Comparing with ROCs\n",
    "One should use ROC charts and AUC scores to compare the two models. Sometimes, visuals can really help you and potential business users understand the differences between the various models under consideration.\n",
    "\n",
    "With the graph in mind, you will be more equipped to make a decision. The lift is how far the curve is from the random prediction. The AUC is the area between the curve and the random prediction. The model with more lift, and a higher AUC, is the one that's better at making predictions accurately."
   ]
  },
  {
   "cell_type": "code",
   "execution_count": 71,
   "id": "f7ba9753-b05d-4c25-8f75-7b70804b65ce",
   "metadata": {},
   "outputs": [
    {
     "data": {
      "image/png": "[encoded data removed]",
      "text/plain": [
       "<Figure size 640x480 with 1 Axes>"
      ]
     },
     "metadata": {},
     "output_type": "display_data"
    }
   ],
   "source": [
    "# ROC chart components\n",
    "fallout_lr, sensitivity_lr, thresholds_lr = roc_curve(y_test_new, clf_logistic_preds_later)\n",
    "fallout_gbt, sensitivity_gbt, thresholds_gbt = roc_curve(y_test_new, clf_gbt_preds_later)\n",
    "\n",
    "# ROC Chart with both\n",
    "plt.plot(fallout_lr, sensitivity_lr, color = 'blue', label='%s' % 'Logistic Regression')\n",
    "plt.plot(fallout_gbt, sensitivity_gbt, color = 'green', label='%s' % 'GBT')\n",
    "plt.plot([0, 1], [0, 1], linestyle='--', label='%s' % 'Random Prediction')\n",
    "plt.title(\"ROC Chart for LR and GBT on the Probability of Default\")\n",
    "plt.xlabel('Fall-out')\n",
    "plt.ylabel('Sensitivity')\n",
    "plt.legend()\n",
    "plt.show()"
   ]
  },
  {
   "cell_type": "code",
   "execution_count": 72,
   "id": "f2c971a5-4e89-4398-87d2-1c8299050121",
   "metadata": {},
   "outputs": [
    {
     "name": "stdout",
     "output_type": "stream",
     "text": [
      "Logistic Regression AUC Score: 0.76\n",
      "Gradient Boosted Tree AUC Score: 0.95\n"
     ]
    }
   ],
   "source": [
    "# Print the logistic regression AUC with formatting\n",
    "print(\"Logistic Regression AUC Score: %0.2f\" % roc_auc_score(y_test_new, clf_logistic_preds_later))\n",
    "\n",
    "# Print the gradient boosted tree AUC with formatting\n",
    "print(\"Gradient Boosted Tree AUC Score: %0.2f\" % roc_auc_score(y_test_new, clf_gbt_preds_later))"
   ]
  },
  {
   "cell_type": "code",
   "execution_count": 73,
   "id": "f3f680d4-8c37-4d2e-ab16-d28a5e3c3a96",
   "metadata": {},
   "outputs": [
    {
     "data": {
      "text/html": [
       "<div>\n",
       "<style scoped>\n",
       "    .dataframe tbody tr th:only-of-type {\n",
       "        vertical-align: middle;\n",
       "    }\n",
       "\n",
       "    .dataframe tbody tr th {\n",
       "        vertical-align: top;\n",
       "    }\n",
       "\n",
       "    .dataframe thead th {\n",
       "        text-align: right;\n",
       "    }\n",
       "</style>\n",
       "<table border=\"1\" class=\"dataframe\">\n",
       "  <thead>\n",
       "    <tr style=\"text-align: right;\">\n",
       "      <th></th>\n",
       "      <th>prob_default</th>\n",
       "      <th>loan_status</th>\n",
       "    </tr>\n",
       "  </thead>\n",
       "  <tbody>\n",
       "    <tr>\n",
       "      <th>0</th>\n",
       "      <td>0.069717</td>\n",
       "      <td>0</td>\n",
       "    </tr>\n",
       "    <tr>\n",
       "      <th>1</th>\n",
       "      <td>0.000514</td>\n",
       "      <td>0</td>\n",
       "    </tr>\n",
       "    <tr>\n",
       "      <th>2</th>\n",
       "      <td>0.001946</td>\n",
       "      <td>0</td>\n",
       "    </tr>\n",
       "    <tr>\n",
       "      <th>3</th>\n",
       "      <td>0.045644</td>\n",
       "      <td>0</td>\n",
       "    </tr>\n",
       "    <tr>\n",
       "      <th>4</th>\n",
       "      <td>0.432617</td>\n",
       "      <td>1</td>\n",
       "    </tr>\n",
       "    <tr>\n",
       "      <th>...</th>\n",
       "      <td>...</td>\n",
       "      <td>...</td>\n",
       "    </tr>\n",
       "    <tr>\n",
       "      <th>11781</th>\n",
       "      <td>0.041030</td>\n",
       "      <td>0</td>\n",
       "    </tr>\n",
       "    <tr>\n",
       "      <th>11782</th>\n",
       "      <td>0.998818</td>\n",
       "      <td>1</td>\n",
       "    </tr>\n",
       "    <tr>\n",
       "      <th>11783</th>\n",
       "      <td>0.981503</td>\n",
       "      <td>1</td>\n",
       "    </tr>\n",
       "    <tr>\n",
       "      <th>11784</th>\n",
       "      <td>0.002784</td>\n",
       "      <td>0</td>\n",
       "    </tr>\n",
       "    <tr>\n",
       "      <th>11785</th>\n",
       "      <td>0.943154</td>\n",
       "      <td>1</td>\n",
       "    </tr>\n",
       "  </tbody>\n",
       "</table>\n",
       "<p>11786 rows × 2 columns</p>\n",
       "</div>"
      ],
      "text/plain": [
       "       prob_default  loan_status\n",
       "0          0.069717            0\n",
       "1          0.000514            0\n",
       "2          0.001946            0\n",
       "3          0.045644            0\n",
       "4          0.432617            1\n",
       "...             ...          ...\n",
       "11781      0.041030            0\n",
       "11782      0.998818            1\n",
       "11783      0.981503            1\n",
       "11784      0.002784            0\n",
       "11785      0.943154            1\n",
       "\n",
       "[11786 rows x 2 columns]"
      ]
     },
     "execution_count": 73,
     "metadata": {},
     "output_type": "execute_result"
    }
   ],
   "source": [
    "preds_df_gbt_later"
   ]
  },
  {
   "cell_type": "markdown",
   "id": "fb4ad964-cca1-4144-bf56-dcdbc60dc922",
   "metadata": {},
   "source": [
    "In the ROC curve for the gradient boosted tree. Not only is the lift much higher, the calculated AUC score is also quite a bit higher. It's beginning to look like the gradient boosted tree is best"
   ]
  },
  {
   "cell_type": "markdown",
   "id": "76a452c7-06e2-4ed8-a147-3ef0b94b7dd5",
   "metadata": {},
   "source": [
    "Acceptance rates\n",
    "Setting an acceptance rate and calculating the threshold for that rate can be used to set the percentage of new loans you want to accept. For this exercise, assume the test data is a fresh batch of new loans. You will need to use the quantile() function from numpy to calculate the threshold.\n",
    "\n",
    "The threshold should be used to assign new loan_status values. The number of defaults and non-defaults in the data change"
   ]
  },
  {
   "cell_type": "code",
   "execution_count": 74,
   "id": "21cc4afe-a02e-404c-8b50-2ab29dfc9951",
   "metadata": {},
   "outputs": [
    {
     "name": "stdout",
     "output_type": "stream",
     "text": [
      "count    11786.000000\n",
      "mean         0.212839\n",
      "std          0.344421\n",
      "min          0.000002\n",
      "25%          0.008941\n",
      "50%          0.041768\n",
      "75%          0.181321\n",
      "max          1.000000\n",
      "Name: prob_default, dtype: float64\n",
      "0    10018\n",
      "1     1768\n",
      "Name: pred_loan_status, dtype: int64\n"
     ]
    }
   ],
   "source": [
    "# Check the statistics of the probabilities of default\n",
    "print(preds_df_gbt_later['prob_default'].describe())\n",
    "\n",
    "# Calculate the threshold for a 85% acceptance rate\n",
    "threshold_85 = np.quantile(preds_df_gbt_later['prob_default'], 0.85)\n",
    "\n",
    "# Apply acceptance rate threshold\n",
    "preds_df_gbt_later['pred_loan_status'] = preds_df_gbt_later['prob_default'].apply(lambda x: 1 if x > threshold_85 else 0)\n",
    "\n",
    "# Print the counts of loan status after the threshold\n",
    "print(preds_df_gbt_later['pred_loan_status'].value_counts())"
   ]
  },
  {
   "cell_type": "markdown",
   "id": "aad44fb3-d266-4895-96fc-6ee5ea708e16",
   "metadata": {},
   "source": [
    "In the results of .describe() One can see how it's not until 75% that you start to see double-digit numbers? That's because the majority of our test set is non-default loans. "
   ]
  },
  {
   "cell_type": "markdown",
   "id": "a03eaf9f-4817-49f4-8c55-b073281456ce",
   "metadata": {},
   "source": [
    "Visualizing quantiles of acceptance\n",
    "You know how quantile() works to compute a threshold, and you've seen an example of what it does to split the loans into accepted and rejected. What does this threshold look like for the test set, and how can you visualize it?\n",
    "\n",
    "To check this, you can create a histogram of the probabilities and add a reference line for the threshold. With this, you can visually show where the threshold exists in the distribution."
   ]
  },
  {
   "cell_type": "code",
   "execution_count": 75,
   "id": "08ba38cc-791c-47b7-a356-99d18129b547",
   "metadata": {},
   "outputs": [
    {
     "data": {
      "image/png": "[encoded data removed]",
      "text/plain": [
       "<Figure size 640x480 with 1 Axes>"
      ]
     },
     "metadata": {},
     "output_type": "display_data"
    }
   ],
   "source": [
    "# Plot the predicted probabilities of default\n",
    "plt.hist(clf_gbt_preds_later, color = 'blue', bins = 40)\n",
    "\n",
    "# Calculate the threshold with quantile\n",
    "threshold = np.quantile(clf_gbt_preds_later, 0.85)\n",
    "\n",
    "# Add a reference line to the plot for the threshold\n",
    "plt.axvline(x = threshold, color = 'red')\n",
    "plt.show()"
   ]
  },
  {
   "cell_type": "markdown",
   "id": "71d4432d-714c-443b-81ad-1a77b66435c5",
   "metadata": {},
   "source": [
    "One can see where the threshold is on the range of predicted probabilities. Not only can you see how many loans will be accepted (left side), but also how many loans will be rejected (right side)."
   ]
  },
  {
   "cell_type": "markdown",
   "id": "b93603e2-e143-4fad-abb2-5fc586d5a406",
   "metadata": {},
   "source": [
    "Bad rates\n",
    "With acceptance rate in mind, you can now analyze the bad rate within the accepted loans. This way you will be able to see the percentage of defaults that have been accepted.\n",
    "\n",
    "Think about the impact of the acceptance rate and bad rate. We set an acceptance rate to have fewer defaults in the portfolio because defaults are more costly. Will the bad rate be less than the percentage of defaults in the test data?"
   ]
  },
  {
   "cell_type": "code",
   "execution_count": 76,
   "id": "9207a417-3938-4a32-81f1-189c9002aadc",
   "metadata": {},
   "outputs": [
    {
     "name": "stdout",
     "output_type": "stream",
     "text": [
      "   prob_default  loan_status  pred_loan_status\n",
      "0      0.069717            0                 0\n",
      "1      0.000514            0                 0\n",
      "2      0.001946            0                 0\n",
      "3      0.045644            0                 0\n",
      "4      0.432617            1                 0\n",
      "0.03803154322220004\n"
     ]
    }
   ],
   "source": [
    "# Print the top 5 rows of the new data frame\n",
    "print(preds_df_gbt_later.head())\n",
    "\n",
    "# Create a subset of only accepted loans\n",
    "accepted_loans = preds_df_gbt_later[preds_df_gbt_later['pred_loan_status'] == 0]\n",
    "\n",
    "# Calculate the bad rate\n",
    "print(np.sum(accepted_loans['loan_status']) / accepted_loans['loan_status'].count())"
   ]
  },
  {
   "cell_type": "raw",
   "id": "2ca0d2c8-354e-44c0-bc3a-c02ffd4bd519",
   "metadata": {},
   "source": [
    "The bad rate with the threshold set by the 85% quantile() is about 3.8%. This means that of all the loans we've decided to accept from the test set, only 3.8% were actual defaults!"
   ]
  },
  {
   "cell_type": "code",
   "execution_count": 77,
   "id": "69b8ebdd-f28f-4466-9f3d-d36e316e8e7f",
   "metadata": {},
   "outputs": [
    {
     "data": {
      "text/html": [
       "<div>\n",
       "<style scoped>\n",
       "    .dataframe tbody tr th:only-of-type {\n",
       "        vertical-align: middle;\n",
       "    }\n",
       "\n",
       "    .dataframe tbody tr th {\n",
       "        vertical-align: top;\n",
       "    }\n",
       "\n",
       "    .dataframe thead th {\n",
       "        text-align: right;\n",
       "    }\n",
       "</style>\n",
       "<table border=\"1\" class=\"dataframe\">\n",
       "  <thead>\n",
       "    <tr style=\"text-align: right;\">\n",
       "      <th></th>\n",
       "      <th>prob_default</th>\n",
       "      <th>loan_status</th>\n",
       "      <th>pred_loan_status</th>\n",
       "    </tr>\n",
       "  </thead>\n",
       "  <tbody>\n",
       "    <tr>\n",
       "      <th>0</th>\n",
       "      <td>0.069717</td>\n",
       "      <td>0</td>\n",
       "      <td>0</td>\n",
       "    </tr>\n",
       "    <tr>\n",
       "      <th>1</th>\n",
       "      <td>0.000514</td>\n",
       "      <td>0</td>\n",
       "      <td>0</td>\n",
       "    </tr>\n",
       "    <tr>\n",
       "      <th>2</th>\n",
       "      <td>0.001946</td>\n",
       "      <td>0</td>\n",
       "      <td>0</td>\n",
       "    </tr>\n",
       "    <tr>\n",
       "      <th>3</th>\n",
       "      <td>0.045644</td>\n",
       "      <td>0</td>\n",
       "      <td>0</td>\n",
       "    </tr>\n",
       "    <tr>\n",
       "      <th>4</th>\n",
       "      <td>0.432617</td>\n",
       "      <td>1</td>\n",
       "      <td>0</td>\n",
       "    </tr>\n",
       "    <tr>\n",
       "      <th>...</th>\n",
       "      <td>...</td>\n",
       "      <td>...</td>\n",
       "      <td>...</td>\n",
       "    </tr>\n",
       "    <tr>\n",
       "      <th>11781</th>\n",
       "      <td>0.041030</td>\n",
       "      <td>0</td>\n",
       "      <td>0</td>\n",
       "    </tr>\n",
       "    <tr>\n",
       "      <th>11782</th>\n",
       "      <td>0.998818</td>\n",
       "      <td>1</td>\n",
       "      <td>1</td>\n",
       "    </tr>\n",
       "    <tr>\n",
       "      <th>11783</th>\n",
       "      <td>0.981503</td>\n",
       "      <td>1</td>\n",
       "      <td>1</td>\n",
       "    </tr>\n",
       "    <tr>\n",
       "      <th>11784</th>\n",
       "      <td>0.002784</td>\n",
       "      <td>0</td>\n",
       "      <td>0</td>\n",
       "    </tr>\n",
       "    <tr>\n",
       "      <th>11785</th>\n",
       "      <td>0.943154</td>\n",
       "      <td>1</td>\n",
       "      <td>1</td>\n",
       "    </tr>\n",
       "  </tbody>\n",
       "</table>\n",
       "<p>11786 rows × 3 columns</p>\n",
       "</div>"
      ],
      "text/plain": [
       "       prob_default  loan_status  pred_loan_status\n",
       "0          0.069717            0                 0\n",
       "1          0.000514            0                 0\n",
       "2          0.001946            0                 0\n",
       "3          0.045644            0                 0\n",
       "4          0.432617            1                 0\n",
       "...             ...          ...               ...\n",
       "11781      0.041030            0                 0\n",
       "11782      0.998818            1                 1\n",
       "11783      0.981503            1                 1\n",
       "11784      0.002784            0                 0\n",
       "11785      0.943154            1                 1\n",
       "\n",
       "[11786 rows x 3 columns]"
      ]
     },
     "execution_count": 77,
     "metadata": {},
     "output_type": "execute_result"
    }
   ],
   "source": [
    "X_test_new['loan_amnt']\n",
    "preds_df_gbt_later"
   ]
  },
  {
   "cell_type": "code",
   "execution_count": 78,
   "id": "c3c1ef66-9e13-4b9a-a50a-bd9d6ec6ac71",
   "metadata": {},
   "outputs": [
    {
     "data": {
      "text/html": [
       "<div>\n",
       "<style scoped>\n",
       "    .dataframe tbody tr th:only-of-type {\n",
       "        vertical-align: middle;\n",
       "    }\n",
       "\n",
       "    .dataframe tbody tr th {\n",
       "        vertical-align: top;\n",
       "    }\n",
       "\n",
       "    .dataframe thead th {\n",
       "        text-align: right;\n",
       "    }\n",
       "</style>\n",
       "<table border=\"1\" class=\"dataframe\">\n",
       "  <thead>\n",
       "    <tr style=\"text-align: right;\">\n",
       "      <th></th>\n",
       "      <th>prob_default</th>\n",
       "      <th>loan_status</th>\n",
       "      <th>pred_loan_status</th>\n",
       "      <th>loan_amnt</th>\n",
       "    </tr>\n",
       "  </thead>\n",
       "  <tbody>\n",
       "    <tr>\n",
       "      <th>0</th>\n",
       "      <td>0.069717</td>\n",
       "      <td>0</td>\n",
       "      <td>0</td>\n",
       "      <td>9000</td>\n",
       "    </tr>\n",
       "    <tr>\n",
       "      <th>1</th>\n",
       "      <td>0.000514</td>\n",
       "      <td>0</td>\n",
       "      <td>0</td>\n",
       "      <td>11000</td>\n",
       "    </tr>\n",
       "    <tr>\n",
       "      <th>2</th>\n",
       "      <td>0.001946</td>\n",
       "      <td>0</td>\n",
       "      <td>0</td>\n",
       "      <td>3700</td>\n",
       "    </tr>\n",
       "    <tr>\n",
       "      <th>3</th>\n",
       "      <td>0.045644</td>\n",
       "      <td>0</td>\n",
       "      <td>0</td>\n",
       "      <td>10800</td>\n",
       "    </tr>\n",
       "    <tr>\n",
       "      <th>4</th>\n",
       "      <td>0.432617</td>\n",
       "      <td>1</td>\n",
       "      <td>0</td>\n",
       "      <td>7500</td>\n",
       "    </tr>\n",
       "    <tr>\n",
       "      <th>...</th>\n",
       "      <td>...</td>\n",
       "      <td>...</td>\n",
       "      <td>...</td>\n",
       "      <td>...</td>\n",
       "    </tr>\n",
       "    <tr>\n",
       "      <th>11781</th>\n",
       "      <td>0.041030</td>\n",
       "      <td>0</td>\n",
       "      <td>0</td>\n",
       "      <td>12000</td>\n",
       "    </tr>\n",
       "    <tr>\n",
       "      <th>11782</th>\n",
       "      <td>0.998818</td>\n",
       "      <td>1</td>\n",
       "      <td>1</td>\n",
       "      <td>8000</td>\n",
       "    </tr>\n",
       "    <tr>\n",
       "      <th>11783</th>\n",
       "      <td>0.981503</td>\n",
       "      <td>1</td>\n",
       "      <td>1</td>\n",
       "      <td>11900</td>\n",
       "    </tr>\n",
       "    <tr>\n",
       "      <th>11784</th>\n",
       "      <td>0.002784</td>\n",
       "      <td>0</td>\n",
       "      <td>0</td>\n",
       "      <td>10000</td>\n",
       "    </tr>\n",
       "    <tr>\n",
       "      <th>11785</th>\n",
       "      <td>0.943154</td>\n",
       "      <td>1</td>\n",
       "      <td>1</td>\n",
       "      <td>30000</td>\n",
       "    </tr>\n",
       "  </tbody>\n",
       "</table>\n",
       "<p>11786 rows × 4 columns</p>\n",
       "</div>"
      ],
      "text/plain": [
       "       prob_default  loan_status  pred_loan_status  loan_amnt\n",
       "0          0.069717            0                 0       9000\n",
       "1          0.000514            0                 0      11000\n",
       "2          0.001946            0                 0       3700\n",
       "3          0.045644            0                 0      10800\n",
       "4          0.432617            1                 0       7500\n",
       "...             ...          ...               ...        ...\n",
       "11781      0.041030            0                 0      12000\n",
       "11782      0.998818            1                 1       8000\n",
       "11783      0.981503            1                 1      11900\n",
       "11784      0.002784            0                 0      10000\n",
       "11785      0.943154            1                 1      30000\n",
       "\n",
       "[11786 rows x 4 columns]"
      ]
     },
     "execution_count": 78,
     "metadata": {},
     "output_type": "execute_result"
    }
   ],
   "source": [
    "preds_df_gbt_later['loan_amnt'] = X_test_new['loan_amnt'].set_axis(preds_df_gbt_later.index)\n",
    "preds_df_gbt_later"
   ]
  },
  {
   "cell_type": "code",
   "execution_count": 79,
   "id": "d3eb4f8f-71a3-4696-ac7e-47874356ca9c",
   "metadata": {},
   "outputs": [
    {
     "name": "stdout",
     "output_type": "stream",
     "text": [
      "count    11786.000000\n",
      "mean      9524.917275\n",
      "std       6219.271738\n",
      "min        500.000000\n",
      "25%       5000.000000\n",
      "50%       8000.000000\n",
      "75%      12000.000000\n",
      "max      35000.000000\n",
      "Name: loan_amnt, dtype: float64\n",
      "pred_loan_status              0              1\n",
      "loan_status                                   \n",
      "0                $91,791,627.78          $0.00\n",
      "1                 $3,628,993.48 $16,840,053.74\n"
     ]
    }
   ],
   "source": [
    "# Print the statistics of the loan amount column\n",
    "\n",
    "print(preds_df_gbt_later['loan_amnt'].describe())\n",
    "\n",
    "# Store the average loan amount\n",
    "avg_loan = np.mean(preds_df_gbt_later['loan_amnt'])\n",
    "\n",
    "# Set the formatting for currency, and print the cross tab\n",
    "pd.options.display.float_format = '${:,.2f}'.format\n",
    "print(pd.crosstab(preds_df_gbt_later['loan_status'],\n",
    "                 preds_df_gbt_later['pred_loan_status']).apply(lambda x: x * avg_loan, axis = 0))"
   ]
  },
  {
   "cell_type": "markdown",
   "id": "fe609b91-1bac-4e7d-a217-bd2bb0258277",
   "metadata": {},
   "source": [
    "One can see that our bad rate of about 3.8% represents an estimated loan value of about 3.62 million dollars. This may seem like a lot at first, but compare it to the total value of non-default loans! "
   ]
  },
  {
   "cell_type": "markdown",
   "id": "eafa18e1-bf1c-49af-abc7-3fa493f9538c",
   "metadata": {},
   "source": [
    "1. Credit strategy and minimum expected loss\n",
    "We've looked at acceptance rates to calculate thresholds and we calculated bad rates to see how many defaults are accepted. Now, let's talk about how we test many different acceptance rates and how we can estimate total expected loss.\n",
    "\n",
    "2. Selecting acceptance rates\n",
    "Previously, we selected an acceptance rate of 85%. What if we don't know what values to set? To discover the bad rate an impact of each acceptance rate we could calculate all the values manually, or we could calculate them automatically and create a table. This table is referred to as the strategy table because we can choose our acceptance rate based on our overall strategy for the loan portfolio.\n",
    "\n",
    "3. Setting up the strategy table\n",
    "Before we begin calculating all the values for the strategy table, we first set up objects to store the values. Here, we create a list of all the acceptance rates to test. We also have two empty lists to store the thresholds and bad rates.\n",
    "\n",
    "4. Calculating the table values\n",
    "To create the table, we use a for loop to perform all of the calculations automatically and store the results. So, for each acceptance rate we define, we calculate the threshold, store it for later, apply it to the loans, create a subset called accepted loans, and then calculate and store the bad rate.\n",
    "\n",
    "5. Strategy table interpretation\n",
    "Once the for loop completes we can create a data frame for the strategy table which contains the values from each of the lists we made before. If we decided on an acceptance rate of 90%, then here we can see the threshold and bad rate for that acceptance rate. We accept only 90% of new loans, and reject the top 10% which gives us a threshold of 0.947. If we assume our test set loans are new loans not seen before, then we have an estimated bad rate of 13%.\n",
    "\n",
    "6. Adding accepted loans\n",
    "To make the strategy table more useful, we are going to add a few columns. The first is the number of accepted loans. This shows us how many new loans we accept for each acceptance rate.\n",
    "\n",
    "7. Adding average loan amount\n",
    "Next, we add an average loan value that we will use later. This is just the average loan amount from the test set.\n",
    "\n",
    "8. Estimating portfolio value\n",
    "Finally, the estimated value is difference between the average value of the accepted non-defaults minus the average value of accepted defaults. Remember, the accepted defaults is represented as a percentage which is the bad rate. Here, I assume each default in our accepted loans is a loss of the average amount of all loans. This gives a rough estimate for the portfolio value at each acceptance rate. So, if I choose an acceptance rate of 95% then my bad rate is 17.7%. If my acceptance rate is 85% then my bad rate is 9%. There is a trade-off between acceptance and bad rate. With this new table, we can estimate the difference.\n",
    "\n",
    "9. Total expected loss\n",
    "The final way we will measure the financial impact of our predictions is with total expected loss. This represents how much we expect to lose on loan defaults given their probability of default. We will take the product of the probability of default, loss given default, and exposure at default for each loan, and sum it. Within our predictions data frame we will use the probability of default from prob_default, the exposure will be assumed as the total loan value, and the loss given default will be 1 for a total loss on the loan."
   ]
  },
  {
   "cell_type": "markdown",
   "id": "74b989e6-6477-42d7-b2a2-37fbd0f6a2f9",
   "metadata": {},
   "source": [
    "Making the strategy table\n",
    "Before you implement a strategy, you should first create a strategy table containing all the possible acceptance rates you wish to look at along with their associated bad rates and threshold values. This way, you can begin to see each part of your strategy and how it affects your portfolio.\n",
    "\n",
    "Automatically calculating all of these values only requires a for loop, but requires many lines of python code. Don't worry, most of the code is already there. Remember the calculations for threshold and bad rate."
   ]
  },
  {
   "cell_type": "code",
   "execution_count": 80,
   "id": "53502905-75cf-4a08-9bf9-56116cc96451",
   "metadata": {},
   "outputs": [],
   "source": [
    "accept_rates = [1.0, 0.95, 0.9, 0.85, 0.8, 0.75, 0.7, 0.65, 0.6, 0.55, 0.5, 0.45, 0.4, 0.35, 0.3, 0.25, 0.2, 0.15, 0.1, 0.05]"
   ]
  },
  {
   "cell_type": "markdown",
   "id": "d421a1ec-be7d-44d2-ba5b-f8c1194dda58",
   "metadata": {},
   "source": [
    "but look at this sweet strategy table in place now. This uses our specific predictions on the credit data, and can be used to see the acceptance rates, bad rates, and financial impact all at once. One of these values has the highest estimated value"
   ]
  },
  {
   "cell_type": "code",
   "execution_count": 81,
   "id": "37fef700-48ca-40fd-bbbb-5b00933b3601",
   "metadata": {},
   "outputs": [],
   "source": [
    "thresholds = [1.000,0.992,0.976,0.804,0.254,0.178,0.138,0.111,0.093,0.078,0.066,0.055,0.045,0.037,0.030,0.022,0.015,0.008,0.004,0.002]"
   ]
  },
  {
   "cell_type": "code",
   "execution_count": 82,
   "id": "1bc92420-2b6d-4a2b-9bd8-6c268525df70",
   "metadata": {},
   "outputs": [],
   "source": [
    "bad_rates1 = [0.219,0.179,0.132,0.083,0.061,0.052,0.043,0.036,0.030,0.027,0.023,0.020,0.017,0.014,0.010,0.008,0.005,0.001,0.000,0.000]"
   ]
  },
  {
   "cell_type": "code",
   "execution_count": 83,
   "id": "58864439-b821-4d44-96f7-c8f56d676b94",
   "metadata": {},
   "outputs": [
    {
     "name": "stdout",
     "output_type": "stream",
     "text": [
      "    Acceptance Rate  Threshold  Bad Rate\n",
      "0             $1.00      $1.00     $0.22\n",
      "1             $0.95      $0.99     $0.18\n",
      "2             $0.90      $0.98     $0.13\n",
      "3             $0.85      $0.80     $0.08\n",
      "4             $0.80      $0.25     $0.06\n",
      "5             $0.75      $0.18     $0.05\n",
      "6             $0.70      $0.14     $0.04\n",
      "7             $0.65      $0.11     $0.04\n",
      "8             $0.60      $0.09     $0.03\n",
      "9             $0.55      $0.08     $0.03\n",
      "10            $0.50      $0.07     $0.02\n",
      "11            $0.45      $0.06     $0.02\n",
      "12            $0.40      $0.04     $0.02\n",
      "13            $0.35      $0.04     $0.01\n",
      "14            $0.30      $0.03     $0.01\n",
      "15            $0.25      $0.02     $0.01\n",
      "16            $0.20      $0.01     $0.01\n",
      "17            $0.15      $0.01     $0.00\n",
      "18            $0.10      $0.00     $0.00\n",
      "19            $0.05      $0.00     $0.00\n"
     ]
    }
   ],
   "source": [
    "# Create a data frame of the strategy table\n",
    "strat_df = pd.DataFrame(zip(accept_rates, thresholds, bad_rates1),\n",
    "                        columns = ['Acceptance Rate','Threshold','Bad Rate'])\n",
    "\n",
    "# Print the entire table\n",
    "print(strat_df)"
   ]
  },
  {
   "cell_type": "code",
   "execution_count": 84,
   "id": "ac416e0e-31ea-4f4e-91a4-40b9e974ed24",
   "metadata": {},
   "outputs": [
    {
     "data": {
      "image/png": "[encoded data removed]",
      "text/plain": [
       "<Figure size 640x480 with 3 Axes>"
      ]
     },
     "metadata": {},
     "output_type": "display_data"
    }
   ],
   "source": [
    "# Plot the strategy curve\n",
    "plt.plot(strat_df['Acceptance Rate'], strat_df['Bad Rate'])\n",
    "plt.xlabel('Acceptance Rate')\n",
    "plt.ylabel('Bad Rate')\n",
    "plt.title('Acceptance and Bad Rates')\n",
    "plt.axes().yaxis.grid()\n",
    "plt.axes().xaxis.grid()\n",
    "plt.show()"
   ]
  },
  {
   "cell_type": "markdown",
   "id": "ae6b9a2c-50dd-437c-afaa-0b5b5ca3f084",
   "metadata": {},
   "source": [
    "The boxplot shows us the distribution for each column. Look at the strategy curve. The bad rates are very low up until the acceptance rate 0.6 where they suddenly increase. This suggests that many of the accepted defaults may have a prob_default value between 0.6 and 0.8"
   ]
  },
  {
   "cell_type": "code",
   "execution_count": 85,
   "id": "bb9bcf35-dd7e-4ddf-a7ea-487cd35af5c5",
   "metadata": {},
   "outputs": [
    {
     "name": "stdout",
     "output_type": "stream",
     "text": [
      "    Acceptance Rate  Threshold  Bad Rate\n",
      "0             $1.00      $1.00     $0.22\n",
      "1             $0.95      $0.99     $0.18\n",
      "2             $0.90      $0.98     $0.13\n",
      "3             $0.85      $0.80     $0.08\n",
      "4             $0.80      $0.25     $0.06\n",
      "5             $0.75      $0.18     $0.05\n",
      "6             $0.70      $0.14     $0.04\n",
      "7             $0.65      $0.11     $0.04\n",
      "8             $0.60      $0.09     $0.03\n",
      "9             $0.55      $0.08     $0.03\n",
      "10            $0.50      $0.07     $0.02\n",
      "11            $0.45      $0.06     $0.02\n",
      "12            $0.40      $0.04     $0.02\n",
      "13            $0.35      $0.04     $0.01\n",
      "14            $0.30      $0.03     $0.01\n",
      "15            $0.25      $0.02     $0.01\n",
      "16            $0.20      $0.01     $0.01\n",
      "17            $0.15      $0.01     $0.00\n",
      "18            $0.10      $0.00     $0.00\n",
      "19            $0.05      $0.00     $0.00\n"
     ]
    }
   ],
   "source": [
    "# Print the contents of the strategy df\n",
    "print(strat_df)"
   ]
  },
  {
   "cell_type": "code",
   "execution_count": null,
   "id": "cea0ba85-817a-4d8e-ad23-23c8a569714c",
   "metadata": {},
   "outputs": [],
   "source": [
    "Estimated value profiling\n",
    "The strategy table, strat_df, can be used to maximize the estimated portfolio value and minimize expected loss. Extending this table and creating some plots can be very helpful to this end.\n",
    "\n",
    "The strat_df data frame is loaded and has been enhanced already with the following columns:\n",
    "\n",
    "Column\tDescription\n",
    "Num Accepted Loans\tThe number of accepted loans based on the threshold\n",
    "Avg Loan Amnt\tThe average loan amount of the entire test set\n",
    "Estimated value\tThe estimated net value of non-defaults minus defaults"
   ]
  },
  {
   "cell_type": "markdown",
   "id": "584aa69c-8184-450e-a029-b97d533aca2a",
   "metadata": {},
   "source": [
    "credit data and our estimated averag loan value, we clearly see that the acceptance rate 0.85 has the highest potential estimated value. Normally, the allowable bad rate is set, but we can use analyses like this to explore other options"
   ]
  }
 ],
 "metadata": {
  "kernelspec": {
   "display_name": "Python 3 (ipykernel)",
   "language": "python",
   "name": "python3"
  },
  "language_info": {
   "codemirror_mode": {
    "name": "ipython",
    "version": 3
   },
   "file_extension": ".py",
   "mimetype": "text/x-python",
   "name": "python",
   "nbconvert_exporter": "python",
   "pygments_lexer": "ipython3",
   "version": "3.7.12"
  }
 },
 "nbformat": 4,
 "nbformat_minor": 5
}
